{
 "cells": [
  {
   "cell_type": "markdown",
   "metadata": {},
   "source": [
    "# Experiments with Normalizing Data\n",
    "## Linear Regression\n",
    "\n",
    "We ran simple linear regression on the training data using a simple training/validation split and normalizing and unnormalizing different parts of the data. The resutls we go were that normalizing either the X or the Y or both were necessary to obtain reasonable results. However, if the inputs were normalized, then normalizing the outputs were unnecessary, and vice versa. "
   ]
  },
  {
   "cell_type": "code",
   "execution_count": 88,
   "metadata": {},
   "outputs": [],
   "source": [
    "import matplotlib.pyplot as plt\n",
    "import numpy as np\n",
    "import pandas as pd\n",
    "import scipy\n",
    "\n",
    "from sklearn.linear_model import LinearRegression\n",
    "from sklearn.metrics import r2_score, mean_squared_error\n",
    "from sklearn.model_selection import KFold, train_test_split"
   ]
  },
  {
   "cell_type": "code",
   "execution_count": 5,
   "metadata": {},
   "outputs": [],
   "source": [
    "# Read training data\n",
    "Z = pd.read_parquet('../data/train_regression.parquet')"
   ]
  },
  {
   "cell_type": "code",
   "execution_count": 75,
   "metadata": {},
   "outputs": [],
   "source": [
    "# Read training data\n",
    "Z = pd.read_parquet('../data/train_regression.parquet')\n",
    "# Define training inputs and outputs\n",
    "X = Z.iloc[:,:-1]\n",
    "y = Z.iloc[:,-1]\n",
    "# X = (X - X.mean(axis=0))/X.std(axis=0)\n",
    "# y = (y - y.mean(axis=0))/y.std(axis=0)\n",
    "X = np.array(X)\n",
    "y = np.array(y)"
   ]
  },
  {
   "cell_type": "code",
   "execution_count": 72,
   "metadata": {},
   "outputs": [
    {
     "name": "stdout",
     "output_type": "stream",
     "text": [
      "Mean validation R2-score:  0.9999254116610202\n",
      "STD validation R2-score:  2.481548168859912e-06\n",
      "Mean validation MSE:  0.24865689314970998\n",
      "Std dev of validation MSE:  0.009117647896531965\n"
     ]
    }
   ],
   "source": [
    "# Compute R2 score using all features\n",
    "r2_vals = []\n",
    "mse_vals = []\n",
    "model = LinearRegression()\n",
    "kf = KFold(n_splits=4)\n",
    "for train, test in kf.split(X):\n",
    "    X_train = X[train]\n",
    "    y_train = y[train]\n",
    "    X_test = X[test]\n",
    "    y_test = y[test]\n",
    "    model = LinearRegression()\n",
    "    model.fit(X_train, y_train)\n",
    "    y_pred = model.predict(X_test)\n",
    "    r2_vals.append(r2_score(y_test, y_pred))\n",
    "    mse_vals.append(mean_squared_error(y_test, y_pred))\n",
    "print(\"Mean validation R2-score: \", np.mean(r2_vals))\n",
    "print(\"STD validation R2-score: \", np.std(r2_vals))\n",
    "print(\"Mean validation MSE: \", np.mean(mse_vals))\n",
    "print(\"Std dev of validation MSE: \", np.std(mse_vals))"
   ]
  },
  {
   "cell_type": "markdown",
   "metadata": {},
   "source": [
    "# Linear Regression\n",
    "## (Unnormalized X, Unnormalized Y, float64)"
   ]
  },
  {
   "cell_type": "code",
   "execution_count": 76,
   "metadata": {},
   "outputs": [
    {
     "name": "stdout",
     "output_type": "stream",
     "text": [
      "Mean validation R2-score:  0.9999254116610202\n",
      "STD validation R2-score:  2.481548168859912e-06\n",
      "Mean validation MSE:  0.24865689314970998\n",
      "Std dev of validation MSE:  0.009117647896531965\n"
     ]
    }
   ],
   "source": [
    "# Compute R2 score using all features\n",
    "r2_vals = []\n",
    "mse_vals = []\n",
    "model = LinearRegression()\n",
    "kf = KFold(n_splits=4)\n",
    "for train, test in kf.split(X):\n",
    "    X_train = X[train]\n",
    "    y_train = y[train]\n",
    "    X_test = X[test]\n",
    "    y_test = y[test]\n",
    "    model = LinearRegression()\n",
    "    model.fit(X_train, y_train)\n",
    "    y_pred = model.predict(X_test)\n",
    "    r2_vals.append(r2_score(y_test, y_pred))\n",
    "    mse_vals.append(mean_squared_error(y_test, y_pred))\n",
    "print(\"Mean validation R2-score: \", np.mean(r2_vals))\n",
    "print(\"STD validation R2-score: \", np.std(r2_vals))\n",
    "print(\"Mean validation MSE: \", np.mean(mse_vals))\n",
    "print(\"Std dev of validation MSE: \", np.std(mse_vals))"
   ]
  },
  {
   "cell_type": "markdown",
   "metadata": {},
   "source": [
    "## Unnormalized X, Unnormalized Y, float64"
   ]
  },
  {
   "cell_type": "code",
   "execution_count": 79,
   "metadata": {},
   "outputs": [
    {
     "name": "stdout",
     "output_type": "stream",
     "text": [
      "Mean validation R2-score:  0.9983756794482023\n",
      "STD validation R2-score:  0.00029663842760977436\n",
      "Mean validation MSE:  5.4159727\n",
      "Std dev of validation MSE:  0.99981517\n"
     ]
    }
   ],
   "source": [
    "# Compute R2 score using all features\n",
    "r2_vals = []\n",
    "mse_vals = []\n",
    "model = LinearRegression()\n",
    "kf = KFold(n_splits=5)\n",
    "X_32 = np.array(X, dtype=np.float32)\n",
    "Y_32 = np.array(y, dtype=np.float32)\n",
    "\n",
    "for train, test in kf.split(X):\n",
    "    X_train = X_32[train]\n",
    "    y_train = Y_32[train]\n",
    "    X_test = X_32[test]\n",
    "    y_test = Y_32[test]\n",
    "    model = LinearRegression()\n",
    "    model.fit(X_train, y_train)\n",
    "    y_pred = model.predict(X_test)\n",
    "    r2_vals.append(r2_score(y_test, y_pred))\n",
    "    mse_vals.append(mean_squared_error(y_test, y_pred))\n",
    "print(\"Mean validation R2-score: \", np.mean(r2_vals))\n",
    "print(\"STD validation R2-score: \", np.std(r2_vals))\n",
    "print(\"Mean validation MSE: \", np.mean(mse_vals))\n",
    "print(\"Std dev of validation MSE: \", np.std(mse_vals))"
   ]
  },
  {
   "cell_type": "markdown",
   "metadata": {},
   "source": [
    "## Normalized X, Normalized Y, float64"
   ]
  },
  {
   "cell_type": "code",
   "execution_count": 83,
   "metadata": {},
   "outputs": [
    {
     "name": "stdout",
     "output_type": "stream",
     "text": [
      "Mean validation R2-score:  0.9999254357376184\n",
      "STD validation R2-score:  2.3411258828265707e-06\n",
      "Mean validation MSE:  0.24856790767479026\n",
      "Std dev of validation MSE:  0.008534127680323723\n"
     ]
    }
   ],
   "source": [
    "# Compute R2 score using all features\n",
    "r2_vals = []\n",
    "mse_vals = []\n",
    "model = LinearRegression()\n",
    "kf = KFold(n_splits=5)\n",
    "\n",
    "for train, test in kf.split(X):\n",
    "    X_train = X[train]\n",
    "    y_train = y[train]\n",
    "    X_test = X[test]\n",
    "    y_test = y[test]\n",
    "\n",
    "    X_train_mean = X_train.mean(axis=0)\n",
    "    X_train_std = X_train.std(axis=0)\n",
    "    y_train_mean  = y_train.mean(axis=0)\n",
    "    y_train_std  = y_train.std(axis=0)\n",
    "    X_train = (X_train - X_train_mean)/X_train_std\n",
    "    y_train = (y_train - y_train_mean)/y_train_std\n",
    "    X_test = (X_test - X_train_mean)/X_train_std\n",
    "    y_test = (y_test - y_train_mean)/y_train_std\n",
    "\n",
    "    model = LinearRegression()\n",
    "    model.fit(X_train, y_train)\n",
    "    y_pred = model.predict(X_test)\n",
    "    y_pred = y_pred * y_train_std + y_train_mean\n",
    "    y_test = y_test * y_train_std + y_train_mean\n",
    "\n",
    "    r2_vals.append(r2_score(y_test, y_pred))\n",
    "    mse_vals.append(mean_squared_error(y_test, y_pred))\n",
    "print(\"Mean validation R2-score: \", np.mean(r2_vals))\n",
    "print(\"STD validation R2-score: \", np.std(r2_vals))\n",
    "print(\"Mean validation MSE: \", np.mean(mse_vals))\n",
    "print(\"Std dev of validation MSE: \", np.std(mse_vals))"
   ]
  },
  {
   "cell_type": "markdown",
   "metadata": {},
   "source": [
    "## Normalized X, Unnormalized Y, float64"
   ]
  },
  {
   "cell_type": "code",
   "execution_count": 84,
   "metadata": {},
   "outputs": [
    {
     "name": "stdout",
     "output_type": "stream",
     "text": [
      "Mean validation R2-score:  0.9999254357375473\n",
      "STD validation R2-score:  2.341125877041843e-06\n",
      "Mean validation MSE:  0.2485679079108051\n",
      "Std dev of validation MSE:  0.008534127618196703\n"
     ]
    }
   ],
   "source": [
    "# Compute R2 score using all features\n",
    "r2_vals = []\n",
    "mse_vals = []\n",
    "model = LinearRegression()\n",
    "kf = KFold(n_splits=5)\n",
    "\n",
    "for train, test in kf.split(X):\n",
    "    X_train = X[train]\n",
    "    y_train = y[train]\n",
    "    X_test = X[test]\n",
    "    y_test = y[test]\n",
    "\n",
    "    X_train_mean = X_train.mean(axis=0)\n",
    "    X_train_std = X_train.std(axis=0)\n",
    "    y_train_mean  = y_train.mean(axis=0)\n",
    "    y_train_std  = y_train.std(axis=0)\n",
    "    X_train = (X_train - X_train_mean)/X_train_std\n",
    "    # y_train = (y_train - y_train_mean)/y_train_std\n",
    "    X_test = (X_test - X_train_mean)/X_train_std\n",
    "    # y_test = (y_test - y_train_mean)/y_train_std\n",
    "\n",
    "    model = LinearRegression()\n",
    "    model.fit(X_train, y_train)\n",
    "    y_pred = model.predict(X_test)\n",
    "    # y_pred = y_pred * y_train_std + y_train_mean\n",
    "    # y_test = y_test * y_train_std + y_train_mean\n",
    "\n",
    "    r2_vals.append(r2_score(y_test, y_pred))\n",
    "    mse_vals.append(mean_squared_error(y_test, y_pred))\n",
    "print(\"Mean validation R2-score: \", np.mean(r2_vals))\n",
    "print(\"STD validation R2-score: \", np.std(r2_vals))\n",
    "print(\"Mean validation MSE: \", np.mean(mse_vals))\n",
    "print(\"Std dev of validation MSE: \", np.std(mse_vals))"
   ]
  },
  {
   "cell_type": "markdown",
   "metadata": {},
   "source": [
    "## Unnormalized X, normalized Y, float64"
   ]
  },
  {
   "cell_type": "code",
   "execution_count": 87,
   "metadata": {},
   "outputs": [
    {
     "name": "stdout",
     "output_type": "stream",
     "text": [
      "Mean validation R2-score:  0.9999254357868622\n",
      "STD validation R2-score:  2.3410439817496452e-06\n",
      "Mean validation MSE:  0.24856774233031106\n",
      "Std dev of validation MSE:  0.008533842295182127\n"
     ]
    }
   ],
   "source": [
    "# Compute R2 score using all features\n",
    "r2_vals = []\n",
    "mse_vals = []\n",
    "model = LinearRegression()\n",
    "kf = KFold(n_splits=5)\n",
    "\n",
    "for train, test in kf.split(X):\n",
    "    X_train = X[train]\n",
    "    y_train = y[train]\n",
    "    X_test = X[test]\n",
    "    y_test = y[test]\n",
    "\n",
    "    X_train_mean = X_train.mean(axis=0)\n",
    "    X_train_std = X_train.std(axis=0)\n",
    "    y_train_mean  = y_train.mean(axis=0)\n",
    "    y_train_std  = y_train.std(axis=0)\n",
    "    # X_train = (X_train - X_train_mean)/X_train_std\n",
    "    y_train = (y_train - y_train_mean)/y_train_std\n",
    "    # X_test = (X_test - X_train_mean)/X_train_std\n",
    "    y_test = (y_test - y_train_mean)/y_train_std\n",
    "\n",
    "    model = LinearRegression()\n",
    "    model.fit(X_train, y_train)\n",
    "    y_pred = model.predict(X_test)\n",
    "    y_pred = y_pred * y_train_std + y_train_mean\n",
    "    y_test = y_test * y_train_std + y_train_mean\n",
    "\n",
    "    r2_vals.append(r2_score(y_test, y_pred))\n",
    "    mse_vals.append(mean_squared_error(y_test, y_pred))\n",
    "print(\"Mean validation R2-score: \", np.mean(r2_vals))\n",
    "print(\"STD validation R2-score: \", np.std(r2_vals))\n",
    "print(\"Mean validation MSE: \", np.mean(mse_vals))\n",
    "print(\"Std dev of validation MSE: \", np.std(mse_vals))"
   ]
  },
  {
   "cell_type": "code",
   "execution_count": null,
   "metadata": {},
   "outputs": [],
   "source": []
  }
 ],
 "metadata": {
  "kernelspec": {
   "display_name": "Python 3.8.9 64-bit",
   "language": "python",
   "name": "python3"
  },
  "language_info": {
   "codemirror_mode": {
    "name": "ipython",
    "version": 3
   },
   "file_extension": ".py",
   "mimetype": "text/x-python",
   "name": "python",
   "nbconvert_exporter": "python",
   "pygments_lexer": "ipython3",
   "version": "3.8.9"
  },
  "orig_nbformat": 4,
  "vscode": {
   "interpreter": {
    "hash": "31f2aee4e71d21fbe5cf8b01ff0e069b9275f58929596ceb00d14d90e3e16cd6"
   }
  }
 },
 "nbformat": 4,
 "nbformat_minor": 2
}
