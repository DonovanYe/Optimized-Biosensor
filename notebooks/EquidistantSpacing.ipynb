{
  "nbformat": 4,
  "nbformat_minor": 0,
  "metadata": {
    "colab": {
      "provenance": []
    },
    "kernelspec": {
      "name": "python3",
      "display_name": "Python 3"
    },
    "language_info": {
      "name": "python"
    }
  },
  "cells": [
    {
      "cell_type": "code",
      "execution_count": 1,
      "metadata": {
        "colab": {
          "base_uri": "https://localhost:8080/"
        },
        "id": "IkW7IiOT3-gm",
        "outputId": "82374f19-5019-4e9e-c0cf-894a8cef6835"
      },
      "outputs": [
        {
          "output_type": "stream",
          "name": "stdout",
          "text": [
            "Mounted at /content/gdrive\n",
            "/content/gdrive/.shortcut-targets-by-id/1EaHvULJYewcfEpQ7wlYgmG1eRbVcahUv/optimized_bio_sensor/rockley\n"
          ]
        }
      ],
      "source": [
        "from google.colab import drive\n",
        "drive.mount('/content/gdrive')\n",
        "import os\n",
        "# os.environ['PYTHONPATH'] += ':/content/gdrive/MyDrive/22FL/CS101-TA/optimized_bio_sensor/RockleyCodesign'\n",
        "os.environ['PYTHONPATH'] += ':/content/gdrive/MyDrive/optimized_bio_sensor/RockleyCodesign'\n",
        "# %cd /content/gdrive/MyDrive/22FL/CS101-TA/optimized_bio_sensor/RockleyCodesign\n",
        "%cd /content/gdrive/MyDrive/optimized_bio_sensor/rockley"
      ]
    },
    {
      "cell_type": "code",
      "source": [
        "import utils.data as data_loader\n",
        " \n",
        "train, val, test = data_loader.load_train_test_val(\n",
        "    trainfile=\"../data/train_regression.parquet\",\n",
        "    testfile=\"../data/test_regression.parquet\",\n",
        "    standardize=True,\n",
        "    precision=64,\n",
        ")\n",
        "\n",
        "Xtrain, Ytrain = train\n",
        "Xval, Yval = val\n",
        "Xtest, Ytest = test"
      ],
      "metadata": {
        "id": "tuikyGDt4JTo"
      },
      "execution_count": 2,
      "outputs": []
    },
    {
      "cell_type": "code",
      "source": [
        "import torch.nn as nn\n",
        "import torch\n",
        "import numpy as np\n",
        "import matplotlib.pyplot as plt"
      ],
      "metadata": {
        "id": "rCef5nqN4L54"
      },
      "execution_count": 3,
      "outputs": []
    },
    {
      "cell_type": "code",
      "source": [
        "# Function for mean squared error just to make sure its computing correctly\n",
        "def calculate_mse(Y1, Y2):\n",
        "  return np.mean((Y1 - Y2) ** 2)"
      ],
      "metadata": {
        "id": "Rc1YvFob4NaK"
      },
      "execution_count": 4,
      "outputs": []
    },
    {
      "cell_type": "code",
      "source": [
        "import sklearn\n",
        "import sklearn.linear_model\n",
        "\n",
        "mse = []\n",
        "kvals = range(10, 197, 10)\n",
        "for k in kvals:\n",
        "  idxs = [int(i / k * 196) for i in range(1, k + 1)]\n",
        "  # print(idxs)\n",
        "  Xcut = Xtrain[:, idxs]\n",
        "  cut_clf = sklearn.linear_model.LinearRegression()\n",
        "  cut_clf.fit(Xcut, Ytrain)\n",
        "  predicted = cut_clf.predict(Xval[:, idxs])\n",
        "  mse.append(calculate_mse(predicted, Yval))\n",
        "\n",
        "plt.plot(kvals, mse)\n",
        "plt.title(\"Performance vs. No. Lasers\")\n",
        "plt.xlabel(\"No. Lasers\")\n",
        "plt.ylabel(\"MSE\")\n",
        "plt.show()"
      ],
      "metadata": {
        "colab": {
          "base_uri": "https://localhost:8080/",
          "height": 295
        },
        "id": "kkLkG4NXxm12",
        "outputId": "95ba5a64-faa2-4afb-c12b-e11e6ddb003a"
      },
      "execution_count": 7,
      "outputs": [
        {
          "output_type": "display_data",
          "data": {
            "text/plain": [
              "<Figure size 432x288 with 1 Axes>"
            ],
            "image/png": "[encoded data removed]"
          },
          "metadata": {
            "needs_background": "light"
          }
        }
      ]
    },
    {
      "cell_type": "code",
      "source": [
        "mse"
      ],
      "metadata": {
        "colab": {
          "base_uri": "https://localhost:8080/"
        },
        "id": "ZY7KPOXuyQfw",
        "outputId": "1de4bd25-4da5-4d3d-eb0c-ecf160b73b4a"
      },
      "execution_count": 8,
      "outputs": [
        {
          "output_type": "execute_result",
          "data": {
            "text/plain": [
              "[1943.882666315385,\n",
              " 70.20663950419382,\n",
              " 51.79938327822261,\n",
              " 8.534573768267812,\n",
              " 4.997452399291674,\n",
              " 4.037607575470639,\n",
              " 1.7208258328723884,\n",
              " 1.3395394171181587,\n",
              " 0.7177426816101549,\n",
              " 0.47853604849632425,\n",
              " 0.5115916736538432,\n",
              " 0.35900362330442454,\n",
              " 0.35050006565171343,\n",
              " 0.32956269163610813,\n",
              " 0.330980511288301,\n",
              " 0.31401336035630867,\n",
              " 0.3025351777637971,\n",
              " 0.28494201428552207,\n",
              " 0.249689185118464]"
            ]
          },
          "metadata": {},
          "execution_count": 8
        }
      ]
    },
    {
      "cell_type": "code",
      "source": [
        "import sklearn\n",
        "import sklearn.linear_model\n",
        "\n",
        "mse = []\n",
        "kvals = range(10, 197, 10)\n",
        "Yn_train = (Ytrain - np.mean(Ytrain, axis=0)) / np.std(Ytrain, axis=0)\n",
        "Yn_val = (Yval - np.mean(Ytrain, axis=0)) / np.std(Ytrain, axis=0)\n",
        "for k in kvals:\n",
        "  idxs = [int(i / k * 196) for i in range(1, k + 1)]\n",
        "  # print(idxs)\n",
        "  Xcut = Xtrain[:, idxs]\n",
        "  cut_clf = sklearn.linear_model.LinearRegression()\n",
        "  cut_clf.fit(Xcut, Yn_train)\n",
        "  predicted = cut_clf.predict(Xval[:, idxs])\n",
        "  mse.append(calculate_mse(predicted, Yn_val))\n",
        "\n",
        "plt.plot(kvals, mse)\n",
        "plt.title(\"Performance vs. No. Lasers\")\n",
        "plt.xlabel(\"No. Lasers\")\n",
        "plt.ylabel(\"MSE\")\n",
        "plt.show()"
      ],
      "metadata": {
        "colab": {
          "base_uri": "https://localhost:8080/",
          "height": 295
        },
        "id": "TCLs1UJN0K8E",
        "outputId": "d604113b-36c1-4e0d-e32d-d8fa0f885240"
      },
      "execution_count": 9,
      "outputs": [
        {
          "output_type": "display_data",
          "data": {
            "text/plain": [
              "<Figure size 432x288 with 1 Axes>"
            ],
            "image/png": "[encoded data removed]"
          },
          "metadata": {
            "needs_background": "light"
          }
        }
      ]
    },
    {
      "cell_type": "code",
      "source": [
        "mse"
      ],
      "metadata": {
        "colab": {
          "base_uri": "https://localhost:8080/"
        },
        "id": "YjOhT_-t0aYO",
        "outputId": "bc061d7b-a628-4bdd-8f8a-4baf79cfda7f"
      },
      "execution_count": 10,
      "outputs": [
        {
          "output_type": "execute_result",
          "data": {
            "text/plain": [
              "[0.5840845544579374,\n",
              " 0.02109521035676726,\n",
              " 0.015564324034333414,\n",
              " 0.002564410292508125,\n",
              " 0.001501600281048837,\n",
              " 0.0012131926801221566,\n",
              " 0.0005170619643422943,\n",
              " 0.0004024956326782574,\n",
              " 0.0002156624068894737,\n",
              " 0.0001437872354697861,\n",
              " 0.0001537195634119214,\n",
              " 0.00010787095075762745,\n",
              " 0.00010531585995245526,\n",
              " 9.902474119446181e-05,\n",
              " 9.945075793979138e-05,\n",
              " 9.435258460627187e-05,\n",
              " 9.090369884041135e-05,\n",
              " 8.561742539111277e-05,\n",
              " 7.502489673731654e-05]"
            ]
          },
          "metadata": {},
          "execution_count": 10
        }
      ]
    }
  ]
}