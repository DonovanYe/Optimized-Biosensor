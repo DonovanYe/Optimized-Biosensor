{
  "nbformat": 4,
  "nbformat_minor": 0,
  "metadata": {
    "colab": {
      "provenance": [],
      "collapsed_sections": [
        "4Op0v8W_4rg4",
        "cuihkvmqUAFx",
        "GLSeBYZF1_L2",
        "maHrn_wAkcKy"
      ]
    },
    "kernelspec": {
      "name": "python3",
      "display_name": "Python 3"
    },
    "language_info": {
      "name": "python"
    },
    "accelerator": "GPU",
    "gpuClass": "premium"
  },
  "cells": [
    {
      "cell_type": "code",
      "execution_count": null,
      "metadata": {
        "id": "z2LAYZgS3yGd"
      },
      "outputs": [],
      "source": [
        "import pandas as pd\n",
        "import numpy as np\n",
        "import matplotlib.pyplot as plt\n",
        "\n",
        "import tensorflow as tf\n",
        "from tensorflow import keras\n",
        "from tensorflow.keras import layers\n",
        "from tensorflow.keras.callbacks import ReduceLROnPlateau\n",
        "\n",
        "from tensorflow.keras.callbacks import ModelCheckpoint\n",
        "\n",
        "from sklearn.model_selection import train_test_split\n",
        "from sklearn.metrics import r2_score\n",
        "\n",
        "import typing"
      ]
    },
    {
      "cell_type": "code",
      "source": [
        "from google.colab import drive\n",
        "drive.mount('/content/gdrive')\n",
        "import os\n",
        "# os.environ['PYTHONPATH'] += ':/content/gdrive/MyDrive/22FL/CS101-TA/optimized_bio_sensor/RockleyCodesign'\n",
        "os.environ['PYTHONPATH'] += ':/content/gdrive/MyDrive/optimized-biosensor/RockleyCodesign'\n",
        "# %cd /content/gdrive/MyDrive/22FL/CS101-TA/optimized_bio_sensor/RockleyCodesign\n",
        "%cd /content/gdrive/MyDrive/optimized-biosensor/RockleyCodesign"
      ],
      "metadata": {
        "colab": {
          "base_uri": "https://localhost:8080/"
        },
        "id": "xSXRYSNW3_NT",
        "outputId": "3ef11b4d-4fbb-47a9-8ed7-b80cf95b7b36"
      },
      "execution_count": null,
      "outputs": [
        {
          "output_type": "stream",
          "name": "stdout",
          "text": [
            "Mounted at /content/gdrive\n",
            "/content/gdrive/MyDrive/optimized-biosensor/RockleyCodesign\n"
          ]
        }
      ]
    },
    {
      "cell_type": "markdown",
      "source": [
        "## Utility Functions"
      ],
      "metadata": {
        "id": "4Op0v8W_4rg4"
      }
    },
    {
      "cell_type": "code",
      "source": [
        "NUM_LASERS = 197\n",
        "\n",
        "def _process_data(\n",
        "    data: pd.DataFrame,\n",
        "    standardize: bool\n",
        ") -> typing.Tuple[np.array, np.array]:\n",
        "    \"\"\"\n",
        "    Split data into lasers X and ethanol concentration y. Standardize the\n",
        "    input data to have zero mean and one standard deviation if specified.\n",
        "    \"\"\"\n",
        "    X = data.iloc[:, :NUM_LASERS].to_numpy(copy=True)\n",
        "    y = data.iloc[:, NUM_LASERS].to_numpy(copy=True)\n",
        "\n",
        "    if standardize:\n",
        "        X = (X - X.mean(axis=0)) / X.std(axis=0)\n",
        "    \n",
        "    return X, y\n",
        "\n",
        "def _standardize_given(\n",
        "    data: np.array,\n",
        "    mean: np.array,\n",
        "    std: np.array,\n",
        ") -> np.array:\n",
        "    norm = np.array(data)\n",
        "    for i in range(len(mean)):\n",
        "        norm[:, i] = (norm[:, i] - mean[i]) / std[i]\n",
        "    return norm\n",
        "\n",
        "def _split_data(\n",
        "    X: np.array,\n",
        "    y: np.array,\n",
        "    split: float,\n",
        "    seed: int\n",
        ") -> typing.Tuple[typing.Tuple[np.array, np.array], typing.Tuple[np.array, np.array]]:\n",
        "    \"\"\"\n",
        "    Split data into training and validation sets\n",
        "    \"\"\"\n",
        "    np.random.seed(seed)\n",
        "    indicies = np.random.permutation(X.shape[0])\n",
        "    num_train = int(split * X.shape[0])\n",
        "    train_indicies = indicies[:num_train]\n",
        "    valid_indicies = indicies[num_train:]\n",
        "\n",
        "    X_train = X[train_indicies, :]\n",
        "    y_train = y[train_indicies]\n",
        "\n",
        "    X_valid = X[valid_indicies, :]\n",
        "    y_valid = y[valid_indicies]\n",
        "\n",
        "    return (X_train, y_train), (X_valid, y_valid)\n",
        "\n",
        "\n",
        "def load_data(\n",
        "    filename: str,\n",
        "    standardize: bool = True,\n",
        "    split: float = 0.8,\n",
        "    seed: int = 2022\n",
        ") -> typing.Tuple[typing.Tuple[np.array, np.array], typing.Tuple[np.array, np.array]]:\n",
        "    \"\"\"\n",
        "    Load data from a file and split into training/validation sets.\n",
        "    Args:\n",
        "        filename: name of the data file \n",
        "        split: percentage of data used for training (remainder used for validation)\n",
        "        standardize: if true, input features are normalized to have zero mean\n",
        "        and one standard deviation\n",
        "        seed: random seed used for data splitting\n",
        "    Returns:\n",
        "        (X_train, y_train), (X_valid, y_valid)\n",
        "    \"\"\"\n",
        "    # load data\n",
        "    data = pd.read_parquet(filename)\n",
        "    X, y = _process_data(data, standardize)\n",
        "\n",
        "    return _split_data(X, y, split, seed)\n",
        "\n",
        "def load_train_test_val(\n",
        "    trainfile: str,\n",
        "    testfile: str,\n",
        "    standardize: bool,\n",
        "    split: float = 0.8,\n",
        "    seed: int = 2022,\n",
        "    precision: int = 64,\n",
        "    truncate: float = 1,\n",
        "    standardize_y: bool = False,\n",
        ") -> typing.Tuple[typing.Tuple[np.array, np.array], typing.Tuple[np.array, np.array], typing.Tuple[np.array, np.array]]:\n",
        "    train, val = load_data(filename=trainfile, standardize=False, split=split, seed=seed)\n",
        "    test, _ = load_data(filename=testfile, standardize=False, split=1, seed=seed)\n",
        "\n",
        "    Xtrain_un, Ytrain = train\n",
        "    Xval_un, Yval = val\n",
        "    Xtest_un, Ytest = test\n",
        "\n",
        "    if not standardize:\n",
        "        if precision == 32:\n",
        "            Xtrain_un = np.array(Xtrain_un, dtype=np.float32)\n",
        "            Ytrain = np.array(Ytrain, dtype=np.float32)\n",
        "            Xval_un = np.array(Xval_un, dtype=np.float32)\n",
        "            Yval = np.array(Yval, dtype=np.float32)\n",
        "            Xtest_un = np.array(Xtest_un, dtype=np.float32)\n",
        "            Ytest = np.array(Ytest, dtype=np.float32)\n",
        "        \n",
        "        Xtrain_un = Xtrain_un[:int(truncate * len(Xtrain_un))]\n",
        "        Ytrain = Ytrain[:int(truncate * len(Ytrain))]\n",
        "        \n",
        "        return (Xtrain_un, Ytrain), (Xval_un, Yval), (Xtest_un, Ytest)\n",
        "    \n",
        "    Xmean = np.mean(Xtrain_un, axis=0)\n",
        "    Xstd = np.std(Xtrain_un, axis=0)\n",
        "    Xtrain_n = _standardize_given(Xtrain_un, Xmean, Xstd)\n",
        "    Xval_n = _standardize_given(Xval_un, Xmean, Xstd)\n",
        "    Xtest_n = _standardize_given(Xtest_un, Xmean, Xstd)\n",
        "    if standardize_y:\n",
        "        Ymean = np.mean(Ytrain, axis=0)\n",
        "        Ystd = np.std(Ytrain, axis=0)\n",
        "        Ytrain = (Ytrain - Ymean) / Ystd\n",
        "        Yval = (Yval - Ymean) / Ystd\n",
        "        Ytest = (Ytest - Ymean) / Ystd\n",
        "\n",
        "    if precision == 32:\n",
        "        Xtrain_n = np.array(Xtrain_n, dtype=np.float32)\n",
        "        Ytrain = np.array(Ytrain, dtype=np.float32)\n",
        "        Xval_n = np.array(Xval_n, dtype=np.float32)\n",
        "        Yval = np.array(Yval, dtype=np.float32)\n",
        "        Xtest_n = np.array(Xtest_n, dtype=np.float32)\n",
        "        Ytest = np.array(Ytest, dtype=np.float32)\n",
        "    \n",
        "    Xtrain_n = Xtrain_n[:int(truncate * len(Xtrain_n))]\n",
        "    Ytrain = Ytrain[:int(truncate * len(Ytrain))]\n",
        "\n",
        "    return (Xtrain_n, Ytrain), (Xval_n, Yval), (Xtest_n, Ytest)"
      ],
      "metadata": {
        "id": "5_RoJpv74jkx"
      },
      "execution_count": null,
      "outputs": []
    },
    {
      "cell_type": "markdown",
      "source": [
        "## Load Data"
      ],
      "metadata": {
        "id": "-5oYWj-JfulH"
      }
    },
    {
      "cell_type": "code",
      "source": [
        "tf.random.set_seed(2022)\n",
        "np.random.seed(2022)\n",
        "tf.keras.backend.set_floatx(\"float32\")\n",
        "# Set model training to float64\n",
        "# tf.keras.backend.set_floatx(\"float64\")\n",
        "\n",
        "df = pd.read_parquet(\"../data/train_regression.parquet\")\n",
        "df_test = pd.read_parquet(\"../data/test_regression.parquet\")\n",
        "\n",
        "# Rename Columns\n",
        "new_col = {}\n",
        "for col in list(df.columns):\n",
        "  if col == \"eEthanol\":\n",
        "    continue\n",
        "  new_col[col] = col[len(\"Laser\")+1:]\n",
        "\n",
        "\n",
        "df.rename(columns=new_col, inplace=True, errors='raise')\n",
        "df_test.rename(columns=new_col, inplace=True, errors='raise')\n",
        "\n",
        "# Features to remove (from beam search, in order)\n",
        "# float 64\n",
        "idx = [140, 164, 190, 1, 135, 24, 91, 85, 10, 183, 137, 97, 111, 168, 167, 193, 27, 21, 131, 166, 151, 185, 178, 119, 116, 70, 36, 15, 162, 4, 55, 108, 120, 107, 59, 158, 143, 157, 78, 77, 60, 58, 57, 9, 38, 76, 75, 159, 156, 145, 153, 152, 112, 110, 165, 169, 171, 176, 109, 113, 114, 115, 132, 128, 117, 118, 129, 124, 123, 130, 121, 122, 179, 180, 181, 194, 195, 163, 161, 127, 125, 126, 6, 5, 106, 196, 155, 11, 37, 192, 187, 186, 182, 87, 44, 0, 3, 2, 67, 66, 32, 184, 154, 105, 8, 104, 56, 41, 40, 69, 49, 48, 47, 46, 98, 103, 177, 175, 174, 170, 172, 22, 191, 188, 189, 61, 102, 139, 141, 133, 173, 160, 150, 147, 134, 100, 101, 68, 43, 71, 92, 7, 25, 74, 26, 63, 90, 64, 82, 138, 136, 148, 83, 99, 79, 73, 89, 28, 65, 18, 17, 142, 23, 149, 12, 13, 14, 88, 86, 84, 144, 146, 19, 16, 96, 93, 94, 95, 72, 62, 20, 81, 29, 30, 80, 34, 35, 31, 54, 53, 39, 42, 50, 51, 52, 33]\n",
        "idx = [str(x + 1) for x in idx]\n",
        "idx = idx[:147]\n",
        "# float 32\n",
        "idx = [50, 91, 97, 9, 33, 29, 49, 45, 46, 48, 47, 32, 6, 44, 34, 90, 22, 87, 145, 20, 10, 25, 8, 7, 30, 31, 58, 40, 43, 79, 42, 94, 15, 51, 54, 55, 96, 19, 59, 174, 14, 12, 41, 98, 35, 21, 164, 36, 92, 84, 24, 77, 39, 85, 82, 83, 16, 18, 183, 71, 60, 37, 28, 26, 149, 178, 173, 73, 191, 75, 23, 61, 57, 93, 70, 193, 5, 194, 81, 89, 118, 150, 86, 80, 13, 4, 136, 110, 144, 147, 135, 125, 162, 114, 88, 130, 124, 185, 67, 195, 184, 187, 72, 122, 62, 127, 113, 182, 148, 142, 172, 139, 151, 53, 52, 11, 2, 190, 132, 175, 0, 1, 63, 74, 109, 99, 188, 3, 17, 138, 64, 65, 189, 126, 100, 95, 140, 179, 38, 143, 160, 165, 161, 177, 102, 186, 129, 180, 128, 27, 56, 163, 121, 123, 196, 112, 117, 69, 68, 146, 66, 133, 134, 115, 137, 104, 181, 111, 78, 192, 170, 168, 171, 176, 169, 141, 152, 167, 153, 154, 166, 108, 106, 159, 158, 76, 156, 155, 157, 116, 103, 101, 105, 107, 120, 119, 131]\n",
        "idx = [str(x + 1) for x in idx]\n",
        "idx = idx[:147]\n",
        "\n",
        "df.drop(idx, axis=1, inplace = True) \n",
        "df_test.drop(idx, axis=1, inplace=True)\n",
        "\n",
        "X = df.iloc[:, :50].to_numpy(copy=True)\n",
        "X = (X - X.mean(axis=0)) / X.std(axis=0) # standardize\n",
        "X_noise = X + np.random.normal(0, 1e-5, np.shape(X)) # adding noise\n",
        "y = df.iloc[:, 50].to_numpy(copy=True)\n",
        "X_train, X_val, y_train, y_val = train_test_split(X, y, test_size=0.2, shuffle=True)\n",
        "\n",
        "X_test = df_test.iloc[:, :50].to_numpy(copy=True)\n",
        "X_test_noise = X_test + np.random.normal(0, 1e-5, np.shape(X_test)) # adding noise\n",
        "X_test = (X_test - X_test.mean(axis=0)) / X_test.std(axis=0) # standardize no noise\n",
        "X_test_noise = (X_test_noise  - X_test_noise.mean(axis=0)) / X_test_noise.std(axis=0) # standardize with noise\n",
        "y_test = df_test.iloc[:, 50].to_numpy(copy=True)"
      ],
      "metadata": {
        "id": "m87qpSB_ENrx"
      },
      "execution_count": null,
      "outputs": []
    },
    {
      "cell_type": "code",
      "source": [
        "# Getting tensor to correct shape (only used for CNN)\n",
        "X_train = np.expand_dims(X_train, axis=1)\n",
        "X_train = np.transpose(X_train, (0, 2, 1))\n",
        "\n",
        "X_val = np.expand_dims(X_val, axis=1)\n",
        "X_val = np.transpose(X_val, (0, 2, 1))\n",
        "\n",
        "X_test = np.expand_dims(X_test, axis=1)\n",
        "X_test = np.transpose(X_test, (0, 2, 1))\n",
        "\n",
        "X_test_noise = np.expand_dims(X_test_noise, axis=1)\n",
        "X_test_noise = np.transpose(X_test_noise, (0, 2, 1))"
      ],
      "metadata": {
        "id": "j5mVzRhhVZ5C"
      },
      "execution_count": null,
      "outputs": []
    },
    {
      "cell_type": "markdown",
      "source": [
        "## NN"
      ],
      "metadata": {
        "id": "cuihkvmqUAFx"
      }
    },
    {
      "cell_type": "code",
      "source": [
        "# Save Model while training\n",
        "from tensorflow.keras.callbacks import ModelCheckpoint\n",
        "\n",
        "MODEL_DIR = \"/content/drive/My Drive/temp\"\n",
        "if not os.path.exists(MODEL_DIR):\n",
        "  os.makedirs(MODEL_DIR)\n",
        "checkpoint = ModelCheckpoint(filepath=os.path.join(MODEL_DIR, \"model-{epoch:02d}.h5\"), save_best_only=True) "
      ],
      "metadata": {
        "id": "hVNpgA2lUF8D"
      },
      "execution_count": null,
      "outputs": []
    },
    {
      "cell_type": "code",
      "source": [
        "def build_NN():\n",
        "  # normalizer = tf.keras.layers.Normalization(axis=-1)\n",
        "  model = keras.Sequential([\n",
        "      layers.Dense(32, activation='relu'),\n",
        "      layers.Dense(16, activation='relu'),\n",
        "      layers.Dense(1)\n",
        "  ])\n",
        "\n",
        "  model.compile(loss='mse',\n",
        "                optimizer=tf.keras.optimizers.Adam(0.01))\n",
        "  return model"
      ],
      "metadata": {
        "id": "s5ekJovoUDiQ"
      },
      "execution_count": null,
      "outputs": []
    },
    {
      "cell_type": "code",
      "source": [
        "from tensorflow.keras.callbacks import ReduceLROnPlateau\n",
        "\n",
        "class printEpochCallback(tf.keras.callbacks.Callback):\n",
        "  def __init__(self, show_epoch):\n",
        "    self.show_epoch = show_epoch\n",
        "\n",
        "  def on_epoch_end(self, epoch, logs=None):\n",
        "    if(int(epoch) % self.show_epoch) == 0:\n",
        "      print(\"Epoch: {:>3} | loss: \".format(epoch) + f\"{logs['loss']}\" + \" | val_loss: \" + f\"{logs['val_loss']}\" + \" | lr: \" + f\"{logs['lr']}\")\n",
        "\n",
        "model = build_NN()\n",
        "reduce_lr = ReduceLROnPlateau(monitor='val_loss',\n",
        "                              factor=0.5,\n",
        "                              patience=5,\n",
        "                              min_lr=1e-4)\n",
        "history = model.fit(\n",
        "    x=X_train,\n",
        "    y=y_train,\n",
        "    epochs=1000,\n",
        "    verbose=0,\n",
        "    batch_size=64,\n",
        "    validation_data=(X_val, y_val),\n",
        "    callbacks=[reduce_lr, checkpoint, printEpochCallback(10)]\n",
        ")"
      ],
      "metadata": {
        "id": "WHyYtuJJUIVp"
      },
      "execution_count": null,
      "outputs": []
    },
    {
      "cell_type": "markdown",
      "source": [
        "## CNN"
      ],
      "metadata": {
        "id": "GLSeBYZF1_L2"
      }
    },
    {
      "cell_type": "code",
      "source": [
        "# Save model while training\n",
        "MODEL_DIR = \"/content/drive/My Drive/temp\"\n",
        "if not os.path.exists(MODEL_DIR): \n",
        "  os.makedirs(MODEL_DIR)\n",
        "checkpoint = ModelCheckpoint(filepath=os.path.join(MODEL_DIR, \"model1-{epoch:02d}.h5\"), save_best_only=True) "
      ],
      "metadata": {
        "id": "gK0gXOs8-CVu"
      },
      "execution_count": null,
      "outputs": []
    },
    {
      "cell_type": "code",
      "source": [
        "# Define CNN models\n",
        "\n",
        "def simple_cnn_model():\n",
        "  # Activation Layer\n",
        "  leaky_relu = tf.keras.layers.LeakyReLU(alpha=0.1)\n",
        "\n",
        "  model = keras.Sequential()\n",
        "  # Conv 1\n",
        "  model.add(layers.Conv1D(filters=6, kernel_size=7, strides=3, activation=leaky_relu))\n",
        "  # Conv 2\n",
        "  model.add(layers.Conv1D(filters=10, kernel_size=3, strides=2, activation=leaky_relu)),\n",
        "  # Flatten\n",
        "  model.add(layers.Flatten())\n",
        "  # F1\n",
        "  model.add(layers.Dense(32))\n",
        "  # Output\n",
        "  model.add(layers.Dropout(0.2))\n",
        "  model.add(layers.Dense(1))\n",
        "  \n",
        "  model.compile(loss='mse', optimizer=tf.keras.optimizers.Adam(0.01))\n",
        "\n",
        "  return model\n",
        "\n",
        "def complex_cnn_model():\n",
        "  inputs = keras.Input(shape=(50, 1))\n",
        "  \n",
        "  leaky_relu = tf.keras.layers.LeakyReLU(alpha=0.2)\n",
        "\n",
        "  # Conv 1\n",
        "  x = layers.Conv1D(filters=8, kernel_size=9, strides=5, activation=leaky_relu)(inputs)\n",
        "  \n",
        "  # Conv2\n",
        "  x1 = layers.Conv1D(filters=4, kernel_size=1, strides=2, padding=\"same\", activation=leaky_relu)(x)\n",
        "  x2 = layers.Conv1D(filters=4, kernel_size=3, strides=2, padding=\"same\", activation=leaky_relu)(x)\n",
        "  x3 = layers.Conv1D(filters=4, kernel_size=5, strides=2, padding=\"same\", activation=leaky_relu)(x)\n",
        "  x = layers.Concatenate(axis=1)([x1, x2, x3])\n",
        "  \n",
        "  # Flatten\n",
        "  x = layers.Flatten()(x)\n",
        "\n",
        "  # F1\n",
        "  x = layers.Dense(16)(x)\n",
        "\n",
        "  # Output\n",
        "  x = layers.Dropout(0.2)(x)\n",
        "  outputs = layers.Dense(1)(x)\n",
        "\n",
        "  model = keras.Model(inputs=inputs, outputs=outputs, name=\"cnn\")\n",
        "  print(model.summary())\n",
        "\n",
        "  model.compile(loss='mse', optimizer=tf.keras.optimizers.Adam(0.01))\n",
        "\n",
        "  return model"
      ],
      "metadata": {
        "id": "_DBL1PEO2Am1"
      },
      "execution_count": null,
      "outputs": []
    },
    {
      "cell_type": "code",
      "source": [
        "# Train models\n",
        "class printEpochCallback(tf.keras.callbacks.Callback):\n",
        "  def __init__(self, show_epoch):\n",
        "    self.show_epoch = show_epoch\n",
        "\n",
        "  def on_epoch_end(self, epoch, logs=None):\n",
        "    if(int(epoch) % self.show_epoch) == 0:\n",
        "      print(\"Epoch: {:>3} | loss: \".format(epoch) + f\"{logs['loss']}\" + \" | val_loss: \" + f\"{logs['val_loss']}\" + \" | lr: \" + f\"{logs['lr']}\")\n",
        "\n",
        "# Testing simple model\n",
        "model = simple_cnn_model()\n",
        "reduce_lr = ReduceLROnPlateau(monitor='val_loss',\n",
        "                              factor=0.5,\n",
        "                              patience=5,\n",
        "                              min_lr=1e-4)\n",
        "history = model.fit(\n",
        "    x=X_train,\n",
        "    y=y_train,\n",
        "    epochs=1000,\n",
        "    verbose=0,\n",
        "    batch_size=64,\n",
        "    validation_data=(X_val, y_val),\n",
        "    callbacks=[reduce_lr, checkpoint, printEpochCallback(10)]\n",
        ")"
      ],
      "metadata": {
        "id": "6DP_vPgb77xw",
        "colab": {
          "base_uri": "https://localhost:8080/"
        },
        "outputId": "8f372e41-5506-440b-aa46-820a352e49cd"
      },
      "execution_count": null,
      "outputs": [
        {
          "output_type": "stream",
          "name": "stdout",
          "text": [
            "Epoch:   0 | loss: 3543.142333984375 | val_loss: 3338.420166015625 | lr: 0.009999999776482582\n",
            "Epoch:  10 | loss: 287.5169677734375 | val_loss: 242.7517852783203 | lr: 0.009999999776482582\n",
            "Epoch:  20 | loss: 194.05853271484375 | val_loss: 91.30927276611328 | lr: 0.009999999776482582\n",
            "Epoch:  30 | loss: 126.33789825439453 | val_loss: 63.5574836730957 | lr: 0.004999999888241291\n",
            "Epoch:  40 | loss: 93.29786682128906 | val_loss: 54.758052825927734 | lr: 0.0024999999441206455\n",
            "Epoch:  50 | loss: 81.96643829345703 | val_loss: 100.74192810058594 | lr: 0.0024999999441206455\n",
            "Epoch:  60 | loss: 68.73957061767578 | val_loss: 34.44693374633789 | lr: 0.0012499999720603228\n",
            "Epoch:  70 | loss: 66.48833465576172 | val_loss: 31.707887649536133 | lr: 0.0012499999720603228\n",
            "Epoch:  80 | loss: 60.6885871887207 | val_loss: 31.165422439575195 | lr: 0.0006249999860301614\n",
            "Epoch:  90 | loss: 57.64178466796875 | val_loss: 31.954879760742188 | lr: 0.0003124999930150807\n",
            "Epoch: 100 | loss: 56.53209686279297 | val_loss: 27.639415740966797 | lr: 0.00015624999650754035\n",
            "Epoch: 110 | loss: 56.158119201660156 | val_loss: 27.40950584411621 | lr: 0.00015624999650754035\n",
            "Epoch: 120 | loss: 54.9915771484375 | val_loss: 26.768457412719727 | lr: 9.999999747378752e-05\n",
            "Epoch: 130 | loss: 55.088138580322266 | val_loss: 27.192262649536133 | lr: 9.999999747378752e-05\n",
            "Epoch: 140 | loss: 54.861289978027344 | val_loss: 26.90388298034668 | lr: 9.999999747378752e-05\n",
            "Epoch: 150 | loss: 54.7196044921875 | val_loss: 26.411640167236328 | lr: 9.999999747378752e-05\n",
            "Epoch: 160 | loss: 54.269805908203125 | val_loss: 26.18088150024414 | lr: 9.999999747378752e-05\n",
            "Epoch: 170 | loss: 54.193817138671875 | val_loss: 26.57390785217285 | lr: 9.999999747378752e-05\n",
            "Epoch: 180 | loss: 54.157535552978516 | val_loss: 25.891706466674805 | lr: 9.999999747378752e-05\n",
            "Epoch: 190 | loss: 54.179378509521484 | val_loss: 26.382680892944336 | lr: 9.999999747378752e-05\n",
            "Epoch: 200 | loss: 53.53044891357422 | val_loss: 26.13812255859375 | lr: 9.999999747378752e-05\n",
            "Epoch: 210 | loss: 53.39439010620117 | val_loss: 26.395902633666992 | lr: 9.999999747378752e-05\n",
            "Epoch: 220 | loss: 53.8830680847168 | val_loss: 26.105281829833984 | lr: 9.999999747378752e-05\n",
            "Epoch: 230 | loss: 53.249847412109375 | val_loss: 25.56414794921875 | lr: 9.999999747378752e-05\n",
            "Epoch: 240 | loss: 53.43266677856445 | val_loss: 25.73383331298828 | lr: 9.999999747378752e-05\n",
            "Epoch: 250 | loss: 53.300140380859375 | val_loss: 25.650381088256836 | lr: 9.999999747378752e-05\n",
            "Epoch: 260 | loss: 53.2601432800293 | val_loss: 25.165739059448242 | lr: 9.999999747378752e-05\n",
            "Epoch: 270 | loss: 53.08750534057617 | val_loss: 25.705053329467773 | lr: 9.999999747378752e-05\n",
            "Epoch: 280 | loss: 53.135711669921875 | val_loss: 25.059282302856445 | lr: 9.999999747378752e-05\n",
            "Epoch: 290 | loss: 52.16166305541992 | val_loss: 25.123123168945312 | lr: 9.999999747378752e-05\n",
            "Epoch: 300 | loss: 53.20686340332031 | val_loss: 24.8803768157959 | lr: 9.999999747378752e-05\n",
            "Epoch: 310 | loss: 52.674957275390625 | val_loss: 25.84471321105957 | lr: 9.999999747378752e-05\n",
            "Epoch: 320 | loss: 52.435646057128906 | val_loss: 25.840686798095703 | lr: 9.999999747378752e-05\n",
            "Epoch: 330 | loss: 52.51978302001953 | val_loss: 25.359766006469727 | lr: 9.999999747378752e-05\n",
            "Epoch: 340 | loss: 52.33429718017578 | val_loss: 25.05695915222168 | lr: 9.999999747378752e-05\n",
            "Epoch: 350 | loss: 52.369388580322266 | val_loss: 27.598424911499023 | lr: 9.999999747378752e-05\n",
            "Epoch: 360 | loss: 51.79411315917969 | val_loss: 26.326818466186523 | lr: 9.999999747378752e-05\n",
            "Epoch: 370 | loss: 51.606990814208984 | val_loss: 24.799819946289062 | lr: 9.999999747378752e-05\n",
            "Epoch: 380 | loss: 52.04553985595703 | val_loss: 24.924528121948242 | lr: 9.999999747378752e-05\n",
            "Epoch: 390 | loss: 51.34062194824219 | val_loss: 26.714435577392578 | lr: 9.999999747378752e-05\n",
            "Epoch: 400 | loss: 51.74799346923828 | val_loss: 24.20296287536621 | lr: 9.999999747378752e-05\n",
            "Epoch: 410 | loss: 51.74330520629883 | val_loss: 24.99065399169922 | lr: 9.999999747378752e-05\n",
            "Epoch: 420 | loss: 51.72174072265625 | val_loss: 24.280006408691406 | lr: 9.999999747378752e-05\n",
            "Epoch: 430 | loss: 51.39421463012695 | val_loss: 25.00022315979004 | lr: 9.999999747378752e-05\n",
            "Epoch: 440 | loss: 51.52726745605469 | val_loss: 24.030702590942383 | lr: 9.999999747378752e-05\n",
            "Epoch: 450 | loss: 51.12274169921875 | val_loss: 24.462533950805664 | lr: 9.999999747378752e-05\n",
            "Epoch: 460 | loss: 50.70738220214844 | val_loss: 24.1497859954834 | lr: 9.999999747378752e-05\n",
            "Epoch: 470 | loss: 50.81205368041992 | val_loss: 24.7558650970459 | lr: 9.999999747378752e-05\n",
            "Epoch: 480 | loss: 51.21198654174805 | val_loss: 24.004838943481445 | lr: 9.999999747378752e-05\n",
            "Epoch: 490 | loss: 50.86968231201172 | val_loss: 24.24500274658203 | lr: 9.999999747378752e-05\n",
            "Epoch: 500 | loss: 50.7199592590332 | val_loss: 24.0413761138916 | lr: 9.999999747378752e-05\n",
            "Epoch: 510 | loss: 50.73260498046875 | val_loss: 23.962244033813477 | lr: 9.999999747378752e-05\n",
            "Epoch: 520 | loss: 51.06221389770508 | val_loss: 23.713743209838867 | lr: 9.999999747378752e-05\n",
            "Epoch: 530 | loss: 50.7379150390625 | val_loss: 23.56324577331543 | lr: 9.999999747378752e-05\n",
            "Epoch: 540 | loss: 50.4671630859375 | val_loss: 23.729650497436523 | lr: 9.999999747378752e-05\n",
            "Epoch: 550 | loss: 50.44131088256836 | val_loss: 23.328941345214844 | lr: 9.999999747378752e-05\n",
            "Epoch: 560 | loss: 50.08137512207031 | val_loss: 23.18973159790039 | lr: 9.999999747378752e-05\n",
            "Epoch: 570 | loss: 50.06412124633789 | val_loss: 23.361068725585938 | lr: 9.999999747378752e-05\n",
            "Epoch: 580 | loss: 49.942630767822266 | val_loss: 23.840089797973633 | lr: 9.999999747378752e-05\n",
            "Epoch: 590 | loss: 50.13652420043945 | val_loss: 23.764984130859375 | lr: 9.999999747378752e-05\n",
            "Epoch: 600 | loss: 49.89704132080078 | val_loss: 25.918622970581055 | lr: 9.999999747378752e-05\n",
            "Epoch: 610 | loss: 49.49544143676758 | val_loss: 23.29070281982422 | lr: 9.999999747378752e-05\n",
            "Epoch: 620 | loss: 49.999576568603516 | val_loss: 23.186874389648438 | lr: 9.999999747378752e-05\n",
            "Epoch: 630 | loss: 49.8577995300293 | val_loss: 23.478805541992188 | lr: 9.999999747378752e-05\n",
            "Epoch: 640 | loss: 49.907928466796875 | val_loss: 23.169260025024414 | lr: 9.999999747378752e-05\n",
            "Epoch: 650 | loss: 49.66841506958008 | val_loss: 23.849939346313477 | lr: 9.999999747378752e-05\n",
            "Epoch: 660 | loss: 49.44422912597656 | val_loss: 22.660633087158203 | lr: 9.999999747378752e-05\n",
            "Epoch: 670 | loss: 49.32875442504883 | val_loss: 22.941604614257812 | lr: 9.999999747378752e-05\n",
            "Epoch: 680 | loss: 49.02098846435547 | val_loss: 23.54094123840332 | lr: 9.999999747378752e-05\n",
            "Epoch: 690 | loss: 49.59990310668945 | val_loss: 22.577213287353516 | lr: 9.999999747378752e-05\n",
            "Epoch: 700 | loss: 49.345008850097656 | val_loss: 22.527774810791016 | lr: 9.999999747378752e-05\n",
            "Epoch: 710 | loss: 49.3757209777832 | val_loss: 23.642024993896484 | lr: 9.999999747378752e-05\n",
            "Epoch: 720 | loss: 48.80501937866211 | val_loss: 23.36833953857422 | lr: 9.999999747378752e-05\n",
            "Epoch: 730 | loss: 49.066627502441406 | val_loss: 22.692516326904297 | lr: 9.999999747378752e-05\n",
            "Epoch: 740 | loss: 48.95563888549805 | val_loss: 22.3125057220459 | lr: 9.999999747378752e-05\n",
            "Epoch: 750 | loss: 48.674625396728516 | val_loss: 22.45687484741211 | lr: 9.999999747378752e-05\n",
            "Epoch: 760 | loss: 48.5849494934082 | val_loss: 22.159975051879883 | lr: 9.999999747378752e-05\n",
            "Epoch: 770 | loss: 48.23173522949219 | val_loss: 21.825979232788086 | lr: 9.999999747378752e-05\n",
            "Epoch: 780 | loss: 48.86003112792969 | val_loss: 22.064340591430664 | lr: 9.999999747378752e-05\n",
            "Epoch: 790 | loss: 48.435447692871094 | val_loss: 22.606117248535156 | lr: 9.999999747378752e-05\n",
            "Epoch: 800 | loss: 48.05234909057617 | val_loss: 22.404037475585938 | lr: 9.999999747378752e-05\n",
            "Epoch: 810 | loss: 48.584293365478516 | val_loss: 21.66168975830078 | lr: 9.999999747378752e-05\n",
            "Epoch: 820 | loss: 48.465415954589844 | val_loss: 24.208078384399414 | lr: 9.999999747378752e-05\n",
            "Epoch: 830 | loss: 48.01614761352539 | val_loss: 21.797353744506836 | lr: 9.999999747378752e-05\n",
            "Epoch: 840 | loss: 47.93574523925781 | val_loss: 21.767621994018555 | lr: 9.999999747378752e-05\n",
            "Epoch: 850 | loss: 47.54627990722656 | val_loss: 21.277570724487305 | lr: 9.999999747378752e-05\n",
            "Epoch: 860 | loss: 47.39434814453125 | val_loss: 22.379262924194336 | lr: 9.999999747378752e-05\n",
            "Epoch: 870 | loss: 47.884090423583984 | val_loss: 20.975862503051758 | lr: 9.999999747378752e-05\n",
            "Epoch: 880 | loss: 47.319427490234375 | val_loss: 20.796142578125 | lr: 9.999999747378752e-05\n",
            "Epoch: 890 | loss: 47.39011764526367 | val_loss: 20.516334533691406 | lr: 9.999999747378752e-05\n",
            "Epoch: 900 | loss: 47.42924499511719 | val_loss: 21.98829460144043 | lr: 9.999999747378752e-05\n",
            "Epoch: 910 | loss: 46.91778564453125 | val_loss: 20.602306365966797 | lr: 9.999999747378752e-05\n",
            "Epoch: 920 | loss: 46.92902755737305 | val_loss: 20.89937973022461 | lr: 9.999999747378752e-05\n",
            "Epoch: 930 | loss: 47.15576934814453 | val_loss: 20.35755729675293 | lr: 9.999999747378752e-05\n",
            "Epoch: 940 | loss: 46.7154426574707 | val_loss: 20.67799949645996 | lr: 9.999999747378752e-05\n",
            "Epoch: 950 | loss: 47.1356201171875 | val_loss: 20.169708251953125 | lr: 9.999999747378752e-05\n",
            "Epoch: 960 | loss: 46.8481330871582 | val_loss: 20.04041290283203 | lr: 9.999999747378752e-05\n",
            "Epoch: 970 | loss: 46.22783660888672 | val_loss: 20.532384872436523 | lr: 9.999999747378752e-05\n",
            "Epoch: 980 | loss: 46.537532806396484 | val_loss: 20.521808624267578 | lr: 9.999999747378752e-05\n",
            "Epoch: 990 | loss: 46.410587310791016 | val_loss: 20.49256134033203 | lr: 9.999999747378752e-05\n"
          ]
        }
      ]
    },
    {
      "cell_type": "code",
      "source": [
        "model.summary()"
      ],
      "metadata": {
        "colab": {
          "base_uri": "https://localhost:8080/"
        },
        "id": "QDvuHF0iEtoc",
        "outputId": "8f486790-e6dc-4c03-834d-41bff9d5e58e"
      },
      "execution_count": null,
      "outputs": [
        {
          "output_type": "stream",
          "name": "stdout",
          "text": [
            "Model: \"sequential_4\"\n",
            "_________________________________________________________________\n",
            " Layer (type)                Output Shape              Param #   \n",
            "=================================================================\n",
            " conv1d_27 (Conv1D)          (64, 15, 6)               48        \n",
            "                                                                 \n",
            " conv1d_28 (Conv1D)          (64, 7, 10)               190       \n",
            "                                                                 \n",
            " flatten_7 (Flatten)         (64, 70)                  0         \n",
            "                                                                 \n",
            " dense_14 (Dense)            (64, 32)                  2272      \n",
            "                                                                 \n",
            " dropout_7 (Dropout)         (64, 32)                  0         \n",
            "                                                                 \n",
            " dense_15 (Dense)            (64, 1)                   33        \n",
            "                                                                 \n",
            "=================================================================\n",
            "Total params: 2,543\n",
            "Trainable params: 2,543\n",
            "Non-trainable params: 0\n",
            "_________________________________________________________________\n"
          ]
        }
      ]
    },
    {
      "cell_type": "code",
      "source": [
        "# MSE\n",
        "print(\"Train Loss: \", min(history.history['loss']))\n",
        "print(\"Validation Loss: \", min(history.history['val_loss']))"
      ],
      "metadata": {
        "id": "j7NEWXk5-Ync"
      },
      "execution_count": null,
      "outputs": []
    },
    {
      "cell_type": "code",
      "source": [
        "# Test Model\n",
        "results = model.evaluate(X_test, y_test, batch_size=64)\n",
        "print(\"Test Loss: \", results)"
      ],
      "metadata": {
        "colab": {
          "base_uri": "https://localhost:8080/"
        },
        "id": "ZLhUBNaB-eEG",
        "outputId": "d9df0852-f1ae-454d-c290-58021413de4e"
      },
      "execution_count": null,
      "outputs": [
        {
          "output_type": "stream",
          "name": "stdout",
          "text": [
            "625/625 [==============================] - 1s 2ms/step - loss: 19.2602\n",
            "Test Loss:  19.26020622253418\n"
          ]
        }
      ]
    },
    {
      "cell_type": "code",
      "source": [
        "# Test Model with noise\n",
        "results_noise = model.evaluate(X_test_noise, y_test, batch_size=64)\n",
        "print(\"Test Loss with Noise: \", results_noise)"
      ],
      "metadata": {
        "colab": {
          "base_uri": "https://localhost:8080/"
        },
        "id": "NoYfXz0r5n9s",
        "outputId": "025c728a-a21c-4fca-8d92-4c74b0c4cf07"
      },
      "execution_count": null,
      "outputs": [
        {
          "output_type": "stream",
          "name": "stdout",
          "text": [
            "625/625 [==============================] - 1s 2ms/step - loss: 19.7029\n",
            "Test Loss with Noise:  19.702877044677734\n"
          ]
        }
      ]
    },
    {
      "cell_type": "code",
      "source": [
        "# Generate Predictions\n",
        "y_pred = model.predict(X_test)\n",
        "\n",
        "# Calculating R-squared\n",
        "r2 = r2_score(y_test, y_pred)\n",
        "print(\"R-squared: \", r2)"
      ],
      "metadata": {
        "colab": {
          "base_uri": "https://localhost:8080/"
        },
        "id": "KSyQ7uL5-gWW",
        "outputId": "9c9638b4-c1b2-4312-f735-9615aacbe386"
      },
      "execution_count": null,
      "outputs": [
        {
          "output_type": "stream",
          "name": "stdout",
          "text": [
            "1250/1250 [==============================] - 2s 2ms/step\n",
            "R-squared:  0.994222944767559\n"
          ]
        }
      ]
    },
    {
      "cell_type": "code",
      "source": [
        "# Plot pred vs actual\n",
        "results_noise = model.evaluate(X_test, y_test, batch_size=64)\n",
        "plt.scatter(y_pred, y_test, s=0.2)\n",
        "plt.plot([0, 200], [0, 200], '-', color=\"orange\", label=\"y=x\")\n",
        "plt.ylabel('Actual')\n",
        "plt.xlabel('Predicted')\n",
        "plt.xlim([-15, 220])\n",
        "plt.ylim([-15, 220])\n",
        "plt.text(110, 60, \"MSE: \" + str(round(results, 3)))\n",
        "plt.text(110, 40, \"R^2: \" + str(round(r2, 3)))\n",
        "plt.title('Actual vs. Predicted (Simple CNN, no noise)')\n",
        "plt.legend()\n",
        "plt.show()"
      ],
      "metadata": {
        "colab": {
          "base_uri": "https://localhost:8080/",
          "height": 313
        },
        "id": "VGcSj9Yh-j_g",
        "outputId": "e81aa966-7aba-40dc-ee74-abfd71e98a68"
      },
      "execution_count": null,
      "outputs": [
        {
          "output_type": "stream",
          "name": "stdout",
          "text": [
            "625/625 [==============================] - 1s 2ms/step - loss: 19.2602\n"
          ]
        },
        {
          "output_type": "display_data",
          "data": {
            "text/plain": [
              "<Figure size 432x288 with 1 Axes>"
            ],
            "image/png": "[encoded data removed]"
          },
          "metadata": {
            "needs_background": "light"
          }
        }
      ]
    },
    {
      "cell_type": "code",
      "source": [
        "# Saving train and validation loss\n",
        "val_loss = history.history['val_loss']\n",
        "train_loss = history.history['loss']\n",
        "df_val = pd.DataFrame(val_loss)\n",
        "df_val.to_csv(MODEL_DIR + '/val_loss.csv', index=False)\n",
        "df_train = pd.DataFrame(train_loss)\n",
        "df_train.to_csv(MODEL_DIR + '/train_loss.csv', index=False)"
      ],
      "metadata": {
        "id": "I2MYhm2--nkW"
      },
      "execution_count": null,
      "outputs": []
    },
    {
      "cell_type": "code",
      "source": [
        "model.load_weights(os.path.join(MODEL_DIR, \"model4-239.h5\"))\n",
        "\n",
        "checkpoint = ModelCheckpoint(\n",
        "    filepath=os.path.join(MODEL_DIR, \"model5-{epoch:02d}.h5\"), \n",
        "    monitor = 'loss',\n",
        "    save_best_only=True,\n",
        "    mode='min',\n",
        "    period=1)\n",
        "\n",
        "new_history = model.fit(\n",
        "    x=X_train,\n",
        "    y=y_train,\n",
        "    epochs=250,\n",
        "    verbose=0,\n",
        "    batch_size=64,\n",
        "    validation_data=(X_val, y_val),\n",
        "    callbacks=[reduce_lr, checkpoint, printEpochCallback(10)]\n",
        ")"
      ],
      "metadata": {
        "id": "2iMwXuXm-rFW"
      },
      "execution_count": null,
      "outputs": []
    },
    {
      "cell_type": "markdown",
      "source": [
        "## DeepSpectra CNN"
      ],
      "metadata": {
        "id": "maHrn_wAkcKy"
      }
    },
    {
      "cell_type": "code",
      "source": [
        "# Save model while training\n",
        "MODEL_DIR = \"/content/drive/My Drive/temp\"\n",
        "if not os.path.exists(MODEL_DIR): \n",
        "  os.makedirs(MODEL_DIR)\n",
        "checkpoint = ModelCheckpoint(filepath=os.path.join(MODEL_DIR, \"model-{epoch:02d}.h5\"), save_best_only=True) "
      ],
      "metadata": {
        "id": "FG55wX7nkdkg"
      },
      "execution_count": null,
      "outputs": []
    },
    {
      "cell_type": "code",
      "source": [
        "# Define Model\n",
        "def deep_spectra_model():\n",
        "  inputs = keras.Input(shape=(50, 1))\n",
        "  \n",
        "  leaky_relu = tf.keras.layers.LeakyReLU(alpha=0.1)\n",
        "\n",
        "  # Conv 1\n",
        "  x = layers.Conv1D(filters=8, kernel_size=9, strides=5, activation=leaky_relu)(inputs)\n",
        "  \n",
        "  # Conv 2 and 3 (Inception Structure)\n",
        "  x1 = layers.Conv1D(filters=4, kernel_size=1, padding=\"same\", activation=leaky_relu)(x)\n",
        "  \n",
        "  x2 = layers.Conv1D(filters=4, kernel_size=1, padding=\"same\", activation=leaky_relu)(x)\n",
        "  x2 = layers.Conv1D(filters=4, kernel_size=5, strides=3, padding=\"same\", activation=leaky_relu)(x2)\n",
        "\n",
        "  x3 = layers.Conv1D(filters=4, kernel_size=1, padding=\"same\", activation=leaky_relu)(x)\n",
        "  x3 = layers.Conv1D(filters=4, kernel_size=7, strides=3, padding=\"same\", activation=leaky_relu)(x3)\n",
        "\n",
        "  x4 = layers.MaxPooling1D(pool_size=2, padding=\"same\")(x)\n",
        "  x4 = layers.Conv1D(filters=4, kernel_size=3, padding=\"same\", activation=leaky_relu)(x4)\n",
        "  \n",
        "  x = layers.Concatenate(axis=1)([x1, x2, x3, x4])\n",
        "\n",
        "  # Flatten\n",
        "  x = layers.Flatten()(x)\n",
        "\n",
        "  # F1\n",
        "  x = layers.Dense(32)(x)\n",
        "\n",
        "  # Output\n",
        "  x = layers.Dropout(0.2)(x)\n",
        "  outputs = layers.Dense(1)(x)\n",
        "\n",
        "  model = keras.Model(inputs=inputs, outputs=outputs, name=\"DeepSpectra\")\n",
        "  print(model.summary())\n",
        "\n",
        "  model.compile(loss='mse', optimizer=tf.keras.optimizers.Adam(0.01))\n",
        "\n",
        "  return model"
      ],
      "metadata": {
        "id": "V4WvppOKk80T"
      },
      "execution_count": null,
      "outputs": []
    },
    {
      "cell_type": "code",
      "source": [
        "# Train Model\n",
        "\n",
        "# Print progress callback\n",
        "class printEpochCallback(tf.keras.callbacks.Callback):\n",
        "  def __init__(self, show_epoch):\n",
        "    self.show_epoch = show_epoch\n",
        "\n",
        "  def on_epoch_end(self, epoch, logs=None):\n",
        "    if(int(epoch) % self.show_epoch) == 0:\n",
        "      print(\"Epoch: {:>3} | loss: \".format(epoch) + f\"{logs['loss']}\" + \" | val_loss: \" + f\"{logs['val_loss']}\" + \" | lr: \" + f\"{logs['lr']}\")\n",
        "\n",
        "model = deep_spectra_model()\n",
        "reduce_lr = ReduceLROnPlateau(monitor='val_loss',\n",
        "                              factor=0.5,\n",
        "                              patience=5,\n",
        "                              min_lr=1e-4)\n",
        "\n",
        "history = model.fit(\n",
        "    x=X_train,\n",
        "    y=y_train,\n",
        "    epochs=1000,\n",
        "    verbose=0,\n",
        "    batch_size=64,\n",
        "    validation_data=(X_val, y_val),\n",
        "    callbacks=[reduce_lr, checkpoint, printEpochCallback(10)]\n",
        ")"
      ],
      "metadata": {
        "id": "RndC0N_2orgW",
        "colab": {
          "base_uri": "https://localhost:8080/"
        },
        "outputId": "3870ccf1-6af1-481a-e6d0-66c94f4bca2a"
      },
      "execution_count": null,
      "outputs": [
        {
          "output_type": "stream",
          "name": "stdout",
          "text": [
            "Model: \"DeepSpectra\"\n",
            "__________________________________________________________________________________________________\n",
            " Layer (type)                   Output Shape         Param #     Connected to                     \n",
            "==================================================================================================\n",
            " input_5 (InputLayer)           [(None, 50, 1)]      0           []                               \n",
            "                                                                                                  \n",
            " conv1d_28 (Conv1D)             (None, 9, 8)         80          ['input_5[0][0]']                \n",
            "                                                                                                  \n",
            " conv1d_30 (Conv1D)             (None, 9, 4)         36          ['conv1d_28[0][0]']              \n",
            "                                                                                                  \n",
            " conv1d_32 (Conv1D)             (None, 9, 4)         36          ['conv1d_28[0][0]']              \n",
            "                                                                                                  \n",
            " max_pooling1d_4 (MaxPooling1D)  (None, 5, 8)        0           ['conv1d_28[0][0]']              \n",
            "                                                                                                  \n",
            " conv1d_29 (Conv1D)             (None, 9, 4)         36          ['conv1d_28[0][0]']              \n",
            "                                                                                                  \n",
            " conv1d_31 (Conv1D)             (None, 3, 4)         84          ['conv1d_30[0][0]']              \n",
            "                                                                                                  \n",
            " conv1d_33 (Conv1D)             (None, 3, 4)         116         ['conv1d_32[0][0]']              \n",
            "                                                                                                  \n",
            " conv1d_34 (Conv1D)             (None, 5, 4)         100         ['max_pooling1d_4[0][0]']        \n",
            "                                                                                                  \n",
            " concatenate_4 (Concatenate)    (None, 20, 4)        0           ['conv1d_29[0][0]',              \n",
            "                                                                  'conv1d_31[0][0]',              \n",
            "                                                                  'conv1d_33[0][0]',              \n",
            "                                                                  'conv1d_34[0][0]']              \n",
            "                                                                                                  \n",
            " flatten_4 (Flatten)            (None, 80)           0           ['concatenate_4[0][0]']          \n",
            "                                                                                                  \n",
            " dense_8 (Dense)                (None, 32)           2592        ['flatten_4[0][0]']              \n",
            "                                                                                                  \n",
            " dropout_4 (Dropout)            (None, 32)           0           ['dense_8[0][0]']                \n",
            "                                                                                                  \n",
            " dense_9 (Dense)                (None, 1)            33          ['dropout_4[0][0]']              \n",
            "                                                                                                  \n",
            "==================================================================================================\n",
            "Total params: 3,113\n",
            "Trainable params: 3,113\n",
            "Non-trainable params: 0\n",
            "__________________________________________________________________________________________________\n",
            "None\n",
            "Epoch:   0 | loss: 3524.87939453125 | val_loss: 3337.76025390625 | lr: 0.009999999776482582\n",
            "Epoch:  10 | loss: 306.3360595703125 | val_loss: 217.28445434570312 | lr: 0.009999999776482582\n",
            "Epoch:  20 | loss: 186.94122314453125 | val_loss: 116.99445343017578 | lr: 0.009999999776482582\n",
            "Epoch:  30 | loss: 138.11572265625 | val_loss: 205.17245483398438 | lr: 0.004999999888241291\n",
            "Epoch:  40 | loss: 88.461181640625 | val_loss: 50.33350372314453 | lr: 0.0012499999720603228\n",
            "Epoch:  50 | loss: 82.00758361816406 | val_loss: 39.01981735229492 | lr: 0.0012499999720603228\n",
            "Epoch:  60 | loss: 74.07986450195312 | val_loss: 44.9809684753418 | lr: 0.0012499999720603228\n",
            "Epoch:  70 | loss: 68.97139739990234 | val_loss: 38.14427185058594 | lr: 0.0012499999720603228\n",
            "Epoch:  80 | loss: 62.10039520263672 | val_loss: 32.98920822143555 | lr: 0.0006249999860301614\n",
            "Epoch:  90 | loss: 58.141448974609375 | val_loss: 30.97032356262207 | lr: 0.0003124999930150807\n",
            "Epoch: 100 | loss: 56.44029998779297 | val_loss: 25.74411964416504 | lr: 9.999999747378752e-05\n",
            "Epoch: 110 | loss: 55.95622634887695 | val_loss: 24.382905960083008 | lr: 9.999999747378752e-05\n",
            "Epoch: 120 | loss: 55.05673599243164 | val_loss: 23.829814910888672 | lr: 9.999999747378752e-05\n",
            "Epoch: 130 | loss: 55.096378326416016 | val_loss: 26.00919532775879 | lr: 9.999999747378752e-05\n",
            "Epoch: 140 | loss: 54.511173248291016 | val_loss: 23.936359405517578 | lr: 9.999999747378752e-05\n",
            "Epoch: 150 | loss: 54.41325378417969 | val_loss: 23.10513687133789 | lr: 9.999999747378752e-05\n",
            "Epoch: 160 | loss: 53.75714111328125 | val_loss: 23.487714767456055 | lr: 9.999999747378752e-05\n",
            "Epoch: 170 | loss: 53.79182434082031 | val_loss: 23.776540756225586 | lr: 9.999999747378752e-05\n",
            "Epoch: 180 | loss: 53.79789733886719 | val_loss: 22.821834564208984 | lr: 9.999999747378752e-05\n",
            "Epoch: 190 | loss: 53.006954193115234 | val_loss: 23.279979705810547 | lr: 9.999999747378752e-05\n",
            "Epoch: 200 | loss: 52.48011016845703 | val_loss: 23.85179328918457 | lr: 9.999999747378752e-05\n",
            "Epoch: 210 | loss: 52.34104919433594 | val_loss: 22.862321853637695 | lr: 9.999999747378752e-05\n",
            "Epoch: 220 | loss: 52.365787506103516 | val_loss: 23.427003860473633 | lr: 9.999999747378752e-05\n",
            "Epoch: 230 | loss: 52.01347351074219 | val_loss: 22.16023063659668 | lr: 9.999999747378752e-05\n",
            "Epoch: 240 | loss: 52.13900375366211 | val_loss: 23.011362075805664 | lr: 9.999999747378752e-05\n",
            "Epoch: 250 | loss: 51.879539489746094 | val_loss: 21.878164291381836 | lr: 9.999999747378752e-05\n",
            "Epoch: 260 | loss: 51.53162384033203 | val_loss: 21.803321838378906 | lr: 9.999999747378752e-05\n",
            "Epoch: 270 | loss: 51.09925079345703 | val_loss: 23.021480560302734 | lr: 9.999999747378752e-05\n",
            "Epoch: 280 | loss: 51.274986267089844 | val_loss: 21.777536392211914 | lr: 9.999999747378752e-05\n",
            "Epoch: 290 | loss: 50.430572509765625 | val_loss: 21.518423080444336 | lr: 9.999999747378752e-05\n",
            "Epoch: 300 | loss: 51.386512756347656 | val_loss: 21.27726173400879 | lr: 9.999999747378752e-05\n",
            "Epoch: 310 | loss: 50.31814193725586 | val_loss: 21.806808471679688 | lr: 9.999999747378752e-05\n",
            "Epoch: 320 | loss: 49.98805236816406 | val_loss: 22.76263999938965 | lr: 9.999999747378752e-05\n",
            "Epoch: 330 | loss: 50.15922546386719 | val_loss: 21.4790096282959 | lr: 9.999999747378752e-05\n",
            "Epoch: 340 | loss: 49.91716003417969 | val_loss: 21.291723251342773 | lr: 9.999999747378752e-05\n",
            "Epoch: 350 | loss: 49.8156623840332 | val_loss: 22.393068313598633 | lr: 9.999999747378752e-05\n",
            "Epoch: 360 | loss: 49.2388916015625 | val_loss: 21.16286277770996 | lr: 9.999999747378752e-05\n",
            "Epoch: 370 | loss: 49.117393493652344 | val_loss: 20.774158477783203 | lr: 9.999999747378752e-05\n",
            "Epoch: 380 | loss: 49.42049789428711 | val_loss: 20.980772018432617 | lr: 9.999999747378752e-05\n",
            "Epoch: 390 | loss: 48.79097366333008 | val_loss: 20.49464988708496 | lr: 9.999999747378752e-05\n",
            "Epoch: 400 | loss: 48.87297821044922 | val_loss: 20.717273712158203 | lr: 9.999999747378752e-05\n",
            "Epoch: 410 | loss: 48.94975662231445 | val_loss: 22.960420608520508 | lr: 9.999999747378752e-05\n",
            "Epoch: 420 | loss: 48.75410461425781 | val_loss: 20.50819206237793 | lr: 9.999999747378752e-05\n",
            "Epoch: 430 | loss: 48.32714080810547 | val_loss: 20.303905487060547 | lr: 9.999999747378752e-05\n",
            "Epoch: 440 | loss: 48.5146598815918 | val_loss: 20.497859954833984 | lr: 9.999999747378752e-05\n",
            "Epoch: 450 | loss: 48.01328659057617 | val_loss: 20.29217529296875 | lr: 9.999999747378752e-05\n",
            "Epoch: 460 | loss: 47.79252243041992 | val_loss: 20.613988876342773 | lr: 9.999999747378752e-05\n",
            "Epoch: 470 | loss: 47.636234283447266 | val_loss: 20.560142517089844 | lr: 9.999999747378752e-05\n",
            "Epoch: 480 | loss: 47.98976516723633 | val_loss: 20.377206802368164 | lr: 9.999999747378752e-05\n",
            "Epoch: 490 | loss: 47.76042556762695 | val_loss: 20.604881286621094 | lr: 9.999999747378752e-05\n",
            "Epoch: 500 | loss: 47.4712028503418 | val_loss: 20.090730667114258 | lr: 9.999999747378752e-05\n",
            "Epoch: 510 | loss: 47.520511627197266 | val_loss: 19.658403396606445 | lr: 9.999999747378752e-05\n",
            "Epoch: 520 | loss: 47.906333923339844 | val_loss: 20.014572143554688 | lr: 9.999999747378752e-05\n",
            "Epoch: 530 | loss: 47.310569763183594 | val_loss: 19.998517990112305 | lr: 9.999999747378752e-05\n",
            "Epoch: 540 | loss: 47.14548873901367 | val_loss: 20.005935668945312 | lr: 9.999999747378752e-05\n",
            "Epoch: 550 | loss: 47.45522689819336 | val_loss: 19.49225425720215 | lr: 9.999999747378752e-05\n",
            "Epoch: 560 | loss: 46.601871490478516 | val_loss: 19.318191528320312 | lr: 9.999999747378752e-05\n",
            "Epoch: 570 | loss: 46.95688247680664 | val_loss: 19.673099517822266 | lr: 9.999999747378752e-05\n",
            "Epoch: 580 | loss: 46.63797378540039 | val_loss: 20.610008239746094 | lr: 9.999999747378752e-05\n",
            "Epoch: 590 | loss: 46.5366096496582 | val_loss: 20.28033447265625 | lr: 9.999999747378752e-05\n",
            "Epoch: 600 | loss: 46.65271759033203 | val_loss: 20.742223739624023 | lr: 9.999999747378752e-05\n",
            "Epoch: 610 | loss: 46.29645538330078 | val_loss: 20.385000228881836 | lr: 9.999999747378752e-05\n",
            "Epoch: 620 | loss: 46.435176849365234 | val_loss: 19.349878311157227 | lr: 9.999999747378752e-05\n",
            "Epoch: 630 | loss: 46.37106704711914 | val_loss: 19.288982391357422 | lr: 9.999999747378752e-05\n",
            "Epoch: 640 | loss: 46.39262008666992 | val_loss: 18.991451263427734 | lr: 9.999999747378752e-05\n",
            "Epoch: 650 | loss: 46.24574661254883 | val_loss: 18.950315475463867 | lr: 9.999999747378752e-05\n",
            "Epoch: 660 | loss: 45.77759552001953 | val_loss: 19.177852630615234 | lr: 9.999999747378752e-05\n",
            "Epoch: 670 | loss: 46.17491149902344 | val_loss: 19.870935440063477 | lr: 9.999999747378752e-05\n",
            "Epoch: 680 | loss: 45.41968536376953 | val_loss: 20.01665496826172 | lr: 9.999999747378752e-05\n",
            "Epoch: 690 | loss: 45.690738677978516 | val_loss: 18.628114700317383 | lr: 9.999999747378752e-05\n",
            "Epoch: 700 | loss: 45.79189682006836 | val_loss: 18.568288803100586 | lr: 9.999999747378752e-05\n",
            "Epoch: 710 | loss: 45.521671295166016 | val_loss: 20.81884002685547 | lr: 9.999999747378752e-05\n",
            "Epoch: 720 | loss: 45.31700134277344 | val_loss: 19.986248016357422 | lr: 9.999999747378752e-05\n",
            "Epoch: 730 | loss: 45.344879150390625 | val_loss: 18.770401000976562 | lr: 9.999999747378752e-05\n",
            "Epoch: 740 | loss: 45.18893814086914 | val_loss: 18.371713638305664 | lr: 9.999999747378752e-05\n",
            "Epoch: 750 | loss: 44.7180061340332 | val_loss: 18.700889587402344 | lr: 9.999999747378752e-05\n",
            "Epoch: 760 | loss: 44.777748107910156 | val_loss: 17.86176109313965 | lr: 9.999999747378752e-05\n",
            "Epoch: 770 | loss: 44.20845413208008 | val_loss: 17.45852279663086 | lr: 9.999999747378752e-05\n",
            "Epoch: 780 | loss: 44.578651428222656 | val_loss: 17.304838180541992 | lr: 9.999999747378752e-05\n",
            "Epoch: 790 | loss: 44.0463752746582 | val_loss: 17.456571578979492 | lr: 9.999999747378752e-05\n",
            "Epoch: 800 | loss: 43.633018493652344 | val_loss: 17.56450080871582 | lr: 9.999999747378752e-05\n",
            "Epoch: 810 | loss: 44.046730041503906 | val_loss: 17.50312042236328 | lr: 9.999999747378752e-05\n",
            "Epoch: 820 | loss: 43.977813720703125 | val_loss: 17.96224594116211 | lr: 9.999999747378752e-05\n",
            "Epoch: 830 | loss: 43.75325012207031 | val_loss: 17.54814338684082 | lr: 9.999999747378752e-05\n",
            "Epoch: 840 | loss: 43.540245056152344 | val_loss: 16.974929809570312 | lr: 9.999999747378752e-05\n",
            "Epoch: 850 | loss: 43.200103759765625 | val_loss: 16.977264404296875 | lr: 9.999999747378752e-05\n",
            "Epoch: 860 | loss: 42.977394104003906 | val_loss: 17.30998992919922 | lr: 9.999999747378752e-05\n",
            "Epoch: 870 | loss: 43.310882568359375 | val_loss: 16.616788864135742 | lr: 9.999999747378752e-05\n",
            "Epoch: 880 | loss: 43.07313919067383 | val_loss: 17.696256637573242 | lr: 9.999999747378752e-05\n",
            "Epoch: 890 | loss: 42.9000358581543 | val_loss: 16.746322631835938 | lr: 9.999999747378752e-05\n",
            "Epoch: 900 | loss: 43.05047607421875 | val_loss: 16.417375564575195 | lr: 9.999999747378752e-05\n",
            "Epoch: 910 | loss: 42.69927978515625 | val_loss: 16.869979858398438 | lr: 9.999999747378752e-05\n",
            "Epoch: 920 | loss: 42.608036041259766 | val_loss: 18.112886428833008 | lr: 9.999999747378752e-05\n",
            "Epoch: 930 | loss: 42.74448013305664 | val_loss: 16.287433624267578 | lr: 9.999999747378752e-05\n",
            "Epoch: 940 | loss: 42.62761306762695 | val_loss: 16.25192642211914 | lr: 9.999999747378752e-05\n",
            "Epoch: 950 | loss: 42.78481674194336 | val_loss: 15.989394187927246 | lr: 9.999999747378752e-05\n",
            "Epoch: 960 | loss: 42.74539566040039 | val_loss: 16.496633529663086 | lr: 9.999999747378752e-05\n",
            "Epoch: 970 | loss: 42.4080810546875 | val_loss: 17.143455505371094 | lr: 9.999999747378752e-05\n",
            "Epoch: 980 | loss: 42.71978759765625 | val_loss: 17.459842681884766 | lr: 9.999999747378752e-05\n",
            "Epoch: 990 | loss: 42.540611267089844 | val_loss: 18.036067962646484 | lr: 9.999999747378752e-05\n"
          ]
        }
      ]
    },
    {
      "cell_type": "code",
      "source": [
        "# MSE\n",
        "print(\"Train Loss: \", min(history.history['loss']))\n",
        "print(\"Validation Loss: \", min(history.history['val_loss']))"
      ],
      "metadata": {
        "id": "Acjgl0alsoQd"
      },
      "execution_count": null,
      "outputs": []
    },
    {
      "cell_type": "code",
      "source": [
        "# Test Model\n",
        "results = model.evaluate(X_test, y_test, batch_size=64)\n",
        "print(\"Test Loss: \", results)"
      ],
      "metadata": {
        "colab": {
          "base_uri": "https://localhost:8080/"
        },
        "id": "T-JdOFXmhATP",
        "outputId": "283f41dc-315b-4688-d7a5-a49b82cdc66b"
      },
      "execution_count": null,
      "outputs": [
        {
          "output_type": "stream",
          "name": "stdout",
          "text": [
            "625/625 [==============================] - 2s 3ms/step - loss: 13.7614 - accuracy: 0.0000e+00\n",
            "Test Loss:  13.76140308380127\n"
          ]
        }
      ]
    },
    {
      "cell_type": "code",
      "source": [
        "# Test model with noise\n",
        "results_noise = model.evaluate(X_test_noise, y_test, batch_size=64)\n",
        "print(\"Test Loss with Noise: \", results_noise)"
      ],
      "metadata": {
        "colab": {
          "base_uri": "https://localhost:8080/"
        },
        "id": "rC2y-_b-Bpay",
        "outputId": "92b8b8d0-e39e-4d89-d0ac-c377865dd0c3"
      },
      "execution_count": null,
      "outputs": [
        {
          "output_type": "stream",
          "name": "stdout",
          "text": [
            "625/625 [==============================] - 2s 3ms/step - loss: 14.0968 - accuracy: 0.0000e+00\n",
            "Test Loss with Noise:  14.096795082092285\n"
          ]
        }
      ]
    },
    {
      "cell_type": "code",
      "source": [
        "# Generate Predictions\n",
        "y_pred = model.predict(X_test)\n",
        "\n",
        "# Calculating R-squared\n",
        "r2 = r2_score(y_test, y_pred)\n",
        "print(\"R-squared: \", r2)"
      ],
      "metadata": {
        "colab": {
          "base_uri": "https://localhost:8080/"
        },
        "id": "RzQ0OKbjAL5K",
        "outputId": "7061b64f-1604-48b2-a725-6d0b2798a50b"
      },
      "execution_count": null,
      "outputs": [
        {
          "output_type": "stream",
          "name": "stdout",
          "text": [
            "1250/1250 [==============================] - 3s 2ms/step\n",
            "R-squared:  0.9958723000447772\n"
          ]
        }
      ]
    },
    {
      "cell_type": "code",
      "source": [
        "# Plot pred vs actual\n",
        "plt.scatter(y_pred, y_test, s=0.2)\n",
        "plt.plot([0, 200], [0, 200], '-', color=\"orange\", label=\"y=x\")\n",
        "plt.ylabel('Actual')\n",
        "plt.xlabel('Predicted')\n",
        "plt.xlim([-15, 220])\n",
        "plt.ylim([-15, 220])\n",
        "plt.text(110, 60, \"MSE: \" + str(round(results, 3)))\n",
        "plt.text(110, 40, \"R^2: \" + str(round(r2, 3)))\n",
        "plt.title('Actual vs. Predicted')\n",
        "plt.legend()\n",
        "plt.show()"
      ],
      "metadata": {
        "colab": {
          "base_uri": "https://localhost:8080/",
          "height": 295
        },
        "id": "l4LL103GFB5j",
        "outputId": "e05b236b-06d8-4e27-922f-17c3dcfe374e"
      },
      "execution_count": null,
      "outputs": [
        {
          "output_type": "display_data",
          "data": {
            "text/plain": [
              "<Figure size 432x288 with 1 Axes>"
            ],
            "image/png": "[encoded data removed]"
          },
          "metadata": {
            "needs_background": "light"
          }
        }
      ]
    },
    {
      "cell_type": "code",
      "source": [
        "# Saving train and validation loss\n",
        "val_loss = history.history['val_loss']\n",
        "train_loss = history.history['loss']\n",
        "df_val = pd.DataFrame(val_loss)\n",
        "df_val.to_csv(MODEL_DIR + '/val_loss.csv', index=False)\n",
        "df_train = pd.DataFrame(train_loss)\n",
        "df_train.to_csv(MODEL_DIR + '/train_loss.csv', index=False)"
      ],
      "metadata": {
        "id": "fLPiZcrOhsN8"
      },
      "execution_count": null,
      "outputs": []
    },
    {
      "cell_type": "code",
      "source": [
        "# Loading model weights to run from checkpoint\n",
        "model.load_weights(os.path.join(MODEL_DIR, \"model3-74.h5\"))\n",
        "\n",
        "checkpoint = ModelCheckpoint(\n",
        "    filepath=os.path.join(MODEL_DIR, \"model4-{epoch:02d}.h5\"), \n",
        "    monitor = 'loss',\n",
        "    save_best_only=True,\n",
        "    mode='min',\n",
        "    period=1)\n",
        "\n",
        "new_history = model.fit(\n",
        "    x=X_train,\n",
        "    y=y_train,\n",
        "    epochs=500,\n",
        "    verbose=0,\n",
        "    batch_size=64,\n",
        "    validation_data=(X_val, y_val),\n",
        "    callbacks=[reduce_lr, checkpoint, printEpochCallback(10)]\n",
        ")"
      ],
      "metadata": {
        "colab": {
          "base_uri": "https://localhost:8080/"
        },
        "id": "vwR0aHIwNZJl",
        "outputId": "d6c68487-602d-4459-8c02-4e6d3f90c270"
      },
      "execution_count": null,
      "outputs": [
        {
          "output_type": "stream",
          "name": "stderr",
          "text": [
            "WARNING:tensorflow:`period` argument is deprecated. Please use `save_freq` to specify the frequency in number of batches seen.\n"
          ]
        },
        {
          "output_type": "stream",
          "name": "stdout",
          "text": [
            "Epoch:   0 | loss: 42.37543869018555 | val_loss: 16.010679244995117 | lr: 9.999999747378752e-05\n",
            "Epoch:  10 | loss: 42.11650466918945 | val_loss: 16.297042846679688 | lr: 9.999999747378752e-05\n",
            "Epoch:  20 | loss: 42.289859771728516 | val_loss: 15.852331161499023 | lr: 9.999999747378752e-05\n",
            "Epoch:  30 | loss: 42.080440521240234 | val_loss: 16.139841079711914 | lr: 9.999999747378752e-05\n",
            "Epoch:  40 | loss: 42.212196350097656 | val_loss: 15.831695556640625 | lr: 9.999999747378752e-05\n",
            "Epoch:  50 | loss: 42.178707122802734 | val_loss: 16.582584381103516 | lr: 9.999999747378752e-05\n",
            "Epoch:  60 | loss: 42.02080154418945 | val_loss: 15.534259796142578 | lr: 9.999999747378752e-05\n",
            "Epoch:  70 | loss: 41.97731399536133 | val_loss: 16.54386329650879 | lr: 9.999999747378752e-05\n",
            "Epoch:  80 | loss: 41.80459213256836 | val_loss: 15.697160720825195 | lr: 9.999999747378752e-05\n",
            "Epoch:  90 | loss: 41.71084213256836 | val_loss: 15.701498031616211 | lr: 9.999999747378752e-05\n",
            "Epoch: 100 | loss: 41.85214614868164 | val_loss: 15.689982414245605 | lr: 9.999999747378752e-05\n",
            "Epoch: 110 | loss: 41.926002502441406 | val_loss: 16.691753387451172 | lr: 9.999999747378752e-05\n",
            "Epoch: 120 | loss: 41.74114990234375 | val_loss: 15.756412506103516 | lr: 9.999999747378752e-05\n",
            "Epoch: 130 | loss: 41.89762878417969 | val_loss: 15.813843727111816 | lr: 9.999999747378752e-05\n",
            "Epoch: 140 | loss: 41.62217330932617 | val_loss: 15.456198692321777 | lr: 9.999999747378752e-05\n",
            "Epoch: 150 | loss: 41.62049102783203 | val_loss: 15.385334968566895 | lr: 9.999999747378752e-05\n",
            "Epoch: 160 | loss: 41.36684036254883 | val_loss: 15.406667709350586 | lr: 9.999999747378752e-05\n",
            "Epoch: 170 | loss: 41.587772369384766 | val_loss: 15.59705924987793 | lr: 9.999999747378752e-05\n",
            "Epoch: 180 | loss: 41.19164276123047 | val_loss: 15.68535041809082 | lr: 9.999999747378752e-05\n",
            "Epoch: 190 | loss: 41.45913314819336 | val_loss: 15.799614906311035 | lr: 9.999999747378752e-05\n",
            "Epoch: 200 | loss: 41.460533142089844 | val_loss: 15.367774963378906 | lr: 9.999999747378752e-05\n",
            "Epoch: 210 | loss: 41.177833557128906 | val_loss: 15.189823150634766 | lr: 9.999999747378752e-05\n",
            "Epoch: 220 | loss: 41.67695236206055 | val_loss: 14.99367618560791 | lr: 9.999999747378752e-05\n",
            "Epoch: 230 | loss: 41.205711364746094 | val_loss: 15.474088668823242 | lr: 9.999999747378752e-05\n",
            "Epoch: 240 | loss: 41.24415969848633 | val_loss: 15.270142555236816 | lr: 9.999999747378752e-05\n",
            "Epoch: 250 | loss: 40.959049224853516 | val_loss: 14.815652847290039 | lr: 9.999999747378752e-05\n",
            "Epoch: 260 | loss: 41.0861701965332 | val_loss: 15.125368118286133 | lr: 9.999999747378752e-05\n",
            "Epoch: 270 | loss: 41.22468566894531 | val_loss: 15.585370063781738 | lr: 9.999999747378752e-05\n",
            "Epoch: 280 | loss: 41.06939697265625 | val_loss: 14.80717945098877 | lr: 9.999999747378752e-05\n",
            "Epoch: 290 | loss: 41.08170700073242 | val_loss: 15.665026664733887 | lr: 9.999999747378752e-05\n",
            "Epoch: 300 | loss: 41.06338882446289 | val_loss: 15.26266098022461 | lr: 9.999999747378752e-05\n",
            "Epoch: 310 | loss: 41.15858840942383 | val_loss: 16.254013061523438 | lr: 9.999999747378752e-05\n",
            "Epoch: 320 | loss: 41.09606170654297 | val_loss: 14.682451248168945 | lr: 9.999999747378752e-05\n",
            "Epoch: 330 | loss: 40.90189743041992 | val_loss: 15.124847412109375 | lr: 9.999999747378752e-05\n",
            "Epoch: 340 | loss: 41.01292419433594 | val_loss: 14.945184707641602 | lr: 9.999999747378752e-05\n",
            "Epoch: 350 | loss: 40.8089714050293 | val_loss: 16.3934383392334 | lr: 9.999999747378752e-05\n",
            "Epoch: 360 | loss: 40.9963264465332 | val_loss: 15.00361156463623 | lr: 9.999999747378752e-05\n",
            "Epoch: 370 | loss: 40.90552520751953 | val_loss: 15.092911720275879 | lr: 9.999999747378752e-05\n",
            "Epoch: 380 | loss: 40.62248229980469 | val_loss: 14.914427757263184 | lr: 9.999999747378752e-05\n",
            "Epoch: 390 | loss: 40.51289749145508 | val_loss: 15.603459358215332 | lr: 9.999999747378752e-05\n",
            "Epoch: 400 | loss: 40.988704681396484 | val_loss: 15.39746379852295 | lr: 9.999999747378752e-05\n",
            "Epoch: 410 | loss: 40.4882698059082 | val_loss: 15.587154388427734 | lr: 9.999999747378752e-05\n",
            "Epoch: 420 | loss: 40.86606979370117 | val_loss: 14.988231658935547 | lr: 9.999999747378752e-05\n",
            "Epoch: 430 | loss: 40.97332763671875 | val_loss: 14.552984237670898 | lr: 9.999999747378752e-05\n",
            "Epoch: 440 | loss: 40.65677261352539 | val_loss: 14.787160873413086 | lr: 9.999999747378752e-05\n",
            "Epoch: 450 | loss: 40.75620651245117 | val_loss: 14.91484546661377 | lr: 9.999999747378752e-05\n",
            "Epoch: 460 | loss: 40.46243667602539 | val_loss: 14.957135200500488 | lr: 9.999999747378752e-05\n",
            "Epoch: 470 | loss: 40.909332275390625 | val_loss: 15.119110107421875 | lr: 9.999999747378752e-05\n",
            "Epoch: 480 | loss: 40.10578536987305 | val_loss: 14.586040496826172 | lr: 9.999999747378752e-05\n",
            "Epoch: 490 | loss: 40.53794479370117 | val_loss: 14.420866012573242 | lr: 9.999999747378752e-05\n"
          ]
        }
      ]
    },
    {
      "cell_type": "code",
      "source": [
        "# Plot model loss\n",
        "def plot_loss(history):\n",
        "  fig = plt.figure()\n",
        "  ax = fig.add_subplot(111)\n",
        "  ax.set_yscale('log')\n",
        "  plt.plot(history.history['val_loss'], label='val_loss')\n",
        "  plt.plot(history.history['loss'], label='train_loss')\n",
        "  plt.xlabel('Epoch')\n",
        "  plt.ylabel('MSE (log scale)')\n",
        "  plt.title('DeepSpectra Model Loss')\n",
        "  plt.legend()\n",
        "  plt.grid(True)\n",
        "\n",
        "plot_loss(history)"
      ],
      "metadata": {
        "colab": {
          "base_uri": "https://localhost:8080/",
          "height": 295
        },
        "id": "vpu6dW2ciI0a",
        "outputId": "675d76bd-aaf6-40df-e71e-e83efdab919e"
      },
      "execution_count": null,
      "outputs": [
        {
          "output_type": "display_data",
          "data": {
            "text/plain": [
              "<Figure size 432x288 with 1 Axes>"
            ],
            "image/png": "[encoded data removed]"
          },
          "metadata": {
            "needs_background": "light"
          }
        }
      ]
    }
  ]
}