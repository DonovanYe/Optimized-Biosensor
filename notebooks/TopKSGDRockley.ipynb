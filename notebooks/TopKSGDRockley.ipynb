{
  "nbformat": 4,
  "nbformat_minor": 0,
  "metadata": {
    "colab": {
      "provenance": [],
      "collapsed_sections": []
    },
    "kernelspec": {
      "name": "python3",
      "display_name": "Python 3"
    },
    "language_info": {
      "name": "python"
    },
    "accelerator": "GPU",
    "gpuClass": "standard"
  },
  "cells": [
    {
      "cell_type": "code",
      "execution_count": null,
      "metadata": {
        "colab": {
          "base_uri": "https://localhost:8080/"
        },
        "id": "xoxuQMgk-6s4",
        "outputId": "8d337f2c-4fdf-487e-c002-babb7e8e95f5"
      },
      "outputs": [
        {
          "output_type": "stream",
          "name": "stdout",
          "text": [
            "Drive already mounted at /content/gdrive; to attempt to forcibly remount, call drive.mount(\"/content/gdrive\", force_remount=True).\n",
            "/content/gdrive/.shortcut-targets-by-id/1EaHvULJYewcfEpQ7wlYgmG1eRbVcahUv/optimized_bio_sensor/rockley\n"
          ]
        }
      ],
      "source": [
        "from google.colab import drive\n",
        "drive.mount('/content/gdrive')\n",
        "import os\n",
        "# os.environ['PYTHONPATH'] += ':/content/gdrive/MyDrive/22FL/CS101-TA/optimized_bio_sensor/RockleyCodesign'\n",
        "os.environ['PYTHONPATH'] += ':/content/gdrive/MyDrive/optimized_bio_sensor/RockleyCodesign'\n",
        "# %cd /content/gdrive/MyDrive/22FL/CS101-TA/optimized_bio_sensor/RockleyCodesign\n",
        "%cd /content/gdrive/MyDrive/optimized_bio_sensor/rockley"
      ]
    },
    {
      "cell_type": "code",
      "source": [
        "import utils.data as data_loader\n",
        " \n",
        "train, val, test = data_loader.load_train_test_val(\n",
        "    trainfile=\"../data/train_regression.parquet\",\n",
        "    testfile=\"../data/test_regression.parquet\",\n",
        "    standardize=True,\n",
        "    precision=64,\n",
        ")\n",
        "\n",
        "Xtrain, Ytrain = train\n",
        "Xval, Yval = val\n",
        "Xtest, Ytest = test"
      ],
      "metadata": {
        "id": "oxoLNP7EGx3n"
      },
      "execution_count": null,
      "outputs": []
    },
    {
      "cell_type": "code",
      "source": [
        "import torch.nn as nn\n",
        "import torch\n",
        "import numpy as np\n",
        "import matplotlib.pyplot as plt"
      ],
      "metadata": {
        "id": "J1ByR2ex_iy0"
      },
      "execution_count": null,
      "outputs": []
    },
    {
      "cell_type": "code",
      "source": [
        "# Function for mean squared error just to make sure its computing correctly\n",
        "def calculate_mse(Y1, Y2):\n",
        "  return np.mean((Y1 - Y2) ** 2)"
      ],
      "metadata": {
        "id": "QpXZplrI9y--"
      },
      "execution_count": null,
      "outputs": []
    },
    {
      "cell_type": "code",
      "source": [
        "# Take a subset to speed up training\n",
        "# Also reshape Y for PyTorch MSELoss\n",
        "Xsub_train, Ysub_train = Xtrain[:10000], Ytrain[:10000].reshape((-1, 1))"
      ],
      "metadata": {
        "id": "aL167uEyOVo2"
      },
      "execution_count": null,
      "outputs": []
    },
    {
      "cell_type": "code",
      "source": [
        "import sklearn.linear_model\n",
        "import sklearn\n",
        "\n",
        "# Check what true solution is\n",
        "mod = sklearn.linear_model.LinearRegression()\n",
        "mod.fit(Xsub_train, Ysub_train[:, 0])\n",
        "print(calculate_mse(mod.predict(Xsub_train), Ysub_train[:, 0]))\n",
        "# Total sum of absolute weights is at the level of 10^6\n",
        "print(np.sum(np.abs(mod.coef_)))\n",
        "plt.bar([x for x in range(len(mod.coef_))], mod.coef_)\n",
        "plt.show()"
      ],
      "metadata": {
        "colab": {
          "base_uri": "https://localhost:8080/",
          "height": 313
        },
        "id": "doyf5BU0wgft",
        "outputId": "8d8ec92f-21f1-4f1e-a5b0-d57267a6dd31"
      },
      "execution_count": null,
      "outputs": [
        {
          "output_type": "stream",
          "name": "stdout",
          "text": [
            "0.24837233583347687\n",
            "3472687667.170824\n"
          ]
        },
        {
          "output_type": "display_data",
          "data": {
            "text/plain": [
              "<Figure size 432x288 with 1 Axes>"
            ],
            "image/png": "[encoded data removed]"
          },
          "metadata": {
            "needs_background": "light"
          }
        }
      ]
    },
    {
      "cell_type": "code",
      "source": [
        "print(calculate_mse(mod.predict(Xval), Yval))"
      ],
      "metadata": {
        "colab": {
          "base_uri": "https://localhost:8080/"
        },
        "id": "b7WqA5Va0Ehb",
        "outputId": "638696be-b3b7-400f-b013-6bdf3c05c3b1"
      },
      "execution_count": null,
      "outputs": [
        {
          "output_type": "stream",
          "name": "stdout",
          "text": [
            "7.834816080888441e-05\n"
          ]
        }
      ]
    },
    {
      "cell_type": "code",
      "source": [
        "print(mod.predict(Xval))"
      ],
      "metadata": {
        "colab": {
          "base_uri": "https://localhost:8080/"
        },
        "id": "yNs5rL1wyZj_",
        "outputId": "26436f38-ede2-49fe-cd91-713d0a7f5783"
      },
      "execution_count": null,
      "outputs": [
        {
          "output_type": "stream",
          "name": "stdout",
          "text": [
            "[-0.00358213 -1.67264729  1.12935034 ... -0.98669692  0.52659567\n",
            " -0.73953469]\n"
          ]
        }
      ]
    },
    {
      "cell_type": "code",
      "source": [
        "class LinearRegression(torch.nn.Module):\n",
        "    def __init__(self, input_size):\n",
        "        super(LinearRegression, self).__init__()\n",
        "        # self.net = nn.Sequential([\n",
        "        #     nn.Linear(input_size, 1)\n",
        "        # ])\n",
        "        # def init_weights(m):\n",
        "        #     if isinstance(m, nn.Linear):\n",
        "        #         m.weight.data.fill_(mod.coef_)\n",
        "        #         torch.nn.init.xavier_uniform(m.weight)\n",
        "        #         m.bias.data.fill_(0.01)\n",
        "        self.layer = nn.Linear(input_size, 1, dtype=torch.float64)\n",
        "\n",
        "        # Start near true solution, it converges to that if placed near\n",
        "        # self.layer.weight.data = torch.from_numpy(mod.coef_ + np.random.rand(input_size) * 0).unsqueeze(0)\n",
        "        # self.layer.bias.data = torch.from_numpy(mod.intercept_ + np.random.rand(1) * 0)\n",
        "        # self.layer.weight.data = prev_model.layer.weight.data\n",
        "        # self.layer.bias.data = prev_model.layer.bias.data\n",
        "\n",
        "    def forward(self, measurements_selected):\n",
        "        # print(self.layer.weight.data - mod.coef_)\n",
        "        out = self.layer(measurements_selected)\n",
        "        return out"
      ],
      "metadata": {
        "id": "RTjOfJ6w_dWT"
      },
      "execution_count": null,
      "outputs": []
    },
    {
      "cell_type": "code",
      "source": [
        "model = LinearRegression(197)\n",
        "\n",
        "criterion = torch.nn.MSELoss() \n",
        "optimizer = torch.optim.Adam(model.parameters(), lr=0.1)\n",
        "\n",
        "l = 0\n",
        "k = 70\n",
        "\n",
        "weights = []\n",
        "losses = []\n",
        "epoch = 0\n",
        "prev_idxs = torch.from_numpy(np.array([range(0, k)]))\n",
        "\n",
        "# Converting inputs and labels to Variable\n",
        "inputs = torch.from_numpy(Xsub_train)\n",
        "labels = torch.from_numpy(Ysub_train)\n",
        "while True:\n",
        "\n",
        "    # get output from the model, given the inputs\n",
        "    outputs = model(inputs)\n",
        "\n",
        "    # clear built-up gradients\n",
        "    optimizer.zero_grad()\n",
        "\n",
        "    # get loss for the predicted output\n",
        "    loss = criterion(outputs, labels)\n",
        "    \n",
        "    # Add L1 Norm regularization term\n",
        "    total_loss = loss + l * torch.sum(model.layer.weight.abs())\n",
        "    # get gradients w.r.t to parameters\n",
        "    total_loss.backward()\n",
        "\n",
        "    # update parameters\n",
        "    optimizer.step()\n",
        "\n",
        "    vals, idx = torch.abs(model.layer.weight.data).topk(k)\n",
        "    new_weights = torch.zeros_like(model.layer.weight.data)\n",
        "    new_weights[:, idx[0]] = model.layer.weight.data[:, idx[0]]\n",
        "    model.layer.weight.data = new_weights\n",
        "\n",
        "    if epoch % 10000 == 0:\n",
        "      diff = 0\n",
        "      s1 = set(idx[0].tolist())\n",
        "      s2 = set(prev_idxs[0].tolist())\n",
        "      for s in s1:\n",
        "        if s not in s2:\n",
        "          diff += 1\n",
        "      prev_idxs = idx\n",
        "      print('epoch {}, loss {}, diff {}'.format(epoch, loss.item(), diff))\n",
        "      if losses and abs(losses[-1] - loss.item()) <= 1e-3:\n",
        "        break\n",
        "      losses.append(loss.item())\n",
        "    epoch += 1\n",
        "\n",
        "plt.plot(losses)\n",
        "plt.show()"
      ],
      "metadata": {
        "colab": {
          "base_uri": "https://localhost:8080/",
          "height": 1000
        },
        "id": "Tiq6Ipea_rSC",
        "outputId": "54ff5f61-d756-40ca-9bbd-66c7a14090a2"
      },
      "execution_count": null,
      "outputs": [
        {
          "output_type": "stream",
          "name": "stdout",
          "text": [
            "epoch 0, loss 13164.478288433396, diff 40\n",
            "epoch 10000, loss 1429.6991843861135, diff 35\n",
            "epoch 20000, loss 655.2647017344254, diff 10\n",
            "epoch 30000, loss 356.41780679128686, diff 3\n",
            "epoch 40000, loss 228.2535774606979, diff 2\n",
            "epoch 50000, loss 166.3003852844514, diff 1\n",
            "epoch 60000, loss 132.90991366552828, diff 0\n",
            "epoch 70000, loss 112.20976328335165, diff 1\n",
            "epoch 80000, loss 98.93322750230696, diff 1\n",
            "epoch 90000, loss 89.54203875298906, diff 1\n",
            "epoch 100000, loss 82.76458250431907, diff 1\n",
            "epoch 110000, loss 78.07679144435437, diff 0\n",
            "epoch 120000, loss 74.80918425829203, diff 0\n",
            "epoch 130000, loss 72.46211319164881, diff 0\n",
            "epoch 140000, loss 70.73202625002813, diff 0\n",
            "epoch 150000, loss 69.41431360137993, diff 0\n",
            "epoch 160000, loss 68.39210354503976, diff 1\n",
            "epoch 170000, loss 67.58552798593433, diff 0\n",
            "epoch 180000, loss 66.9384247519874, diff 0\n",
            "epoch 190000, loss 66.40116458088127, diff 0\n",
            "epoch 200000, loss 65.94584898498428, diff 0\n",
            "epoch 210000, loss 65.57843646621257, diff 0\n",
            "epoch 220000, loss 65.21048416475776, diff 0\n",
            "epoch 230000, loss 64.89208902643665, diff 0\n",
            "epoch 240000, loss 64.61110348542974, diff 0\n",
            "epoch 250000, loss 64.35331426535988, diff 0\n",
            "epoch 260000, loss 64.11713799596221, diff 0\n",
            "epoch 270000, loss 63.894989094311754, diff 0\n",
            "epoch 280000, loss 63.687847764285976, diff 0\n",
            "epoch 290000, loss 63.49212978988916, diff 0\n",
            "epoch 300000, loss 63.306650991341435, diff 0\n",
            "epoch 310000, loss 63.12957167953516, diff 0\n",
            "epoch 320000, loss 62.96033604624945, diff 0\n",
            "epoch 330000, loss 63.311542582744636, diff 0\n",
            "epoch 340000, loss 62.642355644783514, diff 0\n",
            "epoch 350000, loss 62.491089929201614, diff 0\n",
            "epoch 360000, loss 62.34480730321164, diff 0\n",
            "epoch 370000, loss 62.20290090733932, diff 0\n",
            "epoch 380000, loss 62.06489367911218, diff 0\n",
            "epoch 390000, loss 61.93062583032212, diff 0\n",
            "epoch 400000, loss 61.79997577739786, diff 0\n",
            "epoch 410000, loss 61.67235693046495, diff 0\n",
            "epoch 420000, loss 61.548042598638034, diff 0\n",
            "epoch 430000, loss 61.42726231665531, diff 0\n",
            "epoch 440000, loss 61.30678813038862, diff 0\n",
            "epoch 450000, loss 61.1898759739313, diff 0\n",
            "epoch 460000, loss 61.145333935444846, diff 0\n",
            "epoch 470000, loss 60.96344327793706, diff 0\n",
            "epoch 480000, loss 60.85339880849637, diff 0\n",
            "epoch 490000, loss 60.74566618659664, diff 0\n",
            "epoch 500000, loss 60.63954891734361, diff 0\n",
            "epoch 510000, loss 60.5355870981389, diff 0\n",
            "epoch 520000, loss 60.433345789063736, diff 0\n",
            "epoch 530000, loss 60.33293026919127, diff 0\n",
            "epoch 540000, loss 60.23402989730767, diff 0\n",
            "epoch 550000, loss 60.136551944616365, diff 0\n",
            "epoch 560000, loss 60.09381528925132, diff 0\n",
            "epoch 570000, loss 59.94699946267807, diff 0\n",
            "epoch 580000, loss 59.85343263456216, diff 1\n",
            "epoch 590000, loss 59.76254057389158, diff 0\n",
            "epoch 600000, loss 59.675020631489645, diff 0\n",
            "epoch 610000, loss 59.59050188350037, diff 0\n",
            "epoch 620000, loss 59.508767738945735, diff 0\n",
            "epoch 630000, loss 59.4290922690622, diff 0\n",
            "epoch 640000, loss 59.350988721800185, diff 0\n",
            "epoch 650000, loss 59.27467434761977, diff 0\n",
            "epoch 660000, loss 59.20016727624081, diff 0\n",
            "epoch 670000, loss 59.126921799799916, diff 0\n",
            "epoch 680000, loss 59.054948516360646, diff 0\n",
            "epoch 690000, loss 58.98400834250138, diff 0\n",
            "epoch 700000, loss 58.91386809610084, diff 0\n",
            "epoch 710000, loss 58.946742290886036, diff 0\n",
            "epoch 720000, loss 58.776939552928425, diff 0\n",
            "epoch 730000, loss 58.70970842615696, diff 0\n",
            "epoch 740000, loss 58.643463037270074, diff 0\n",
            "epoch 750000, loss 58.571349462016904, diff 1\n",
            "epoch 760000, loss 58.489331868882246, diff 0\n",
            "epoch 770000, loss 58.415391711808546, diff 0\n",
            "epoch 780000, loss 58.342226558387416, diff 0\n",
            "epoch 790000, loss 58.27121188991961, diff 1\n",
            "epoch 800000, loss 58.18869435922911, diff 0\n",
            "epoch 810000, loss 58.10957858916523, diff 0\n",
            "epoch 820000, loss 58.03282218159433, diff 0\n",
            "epoch 830000, loss 57.95693895028175, diff 0\n",
            "epoch 840000, loss 57.88299376363276, diff 0\n",
            "epoch 850000, loss 57.810077286534444, diff 0\n",
            "epoch 860000, loss 57.73850967277303, diff 0\n",
            "epoch 870000, loss 57.66817620912098, diff 0\n",
            "epoch 880000, loss 57.598957007993306, diff 0\n",
            "epoch 890000, loss 57.572893824253825, diff 0\n",
            "epoch 900000, loss 57.46310468402944, diff 0\n",
            "epoch 910000, loss 57.39649046344678, diff 0\n",
            "epoch 920000, loss 57.363153958232395, diff 0\n",
            "epoch 930000, loss 57.26578532837991, diff 0\n",
            "epoch 940000, loss 57.20176636505962, diff 0\n",
            "epoch 950000, loss 57.138510931912926, diff 0\n",
            "epoch 960000, loss 57.08417387965848, diff 0\n",
            "epoch 970000, loss 57.01404977067604, diff 0\n",
            "epoch 980000, loss 56.95279441517488, diff 0\n",
            "epoch 990000, loss 56.89241365603768, diff 0\n",
            "epoch 1000000, loss 56.83268834496036, diff 0\n",
            "epoch 1010000, loss 56.773540812278796, diff 0\n",
            "epoch 1020000, loss 56.729648540871594, diff 1\n"
          ]
        },
        {
          "output_type": "error",
          "ename": "KeyboardInterrupt",
          "evalue": "ignored",
          "traceback": [
            "\u001b[0;31m---------------------------------------------------------------------------\u001b[0m",
            "\u001b[0;31mKeyboardInterrupt\u001b[0m                         Traceback (most recent call last)",
            "\u001b[0;32m<ipython-input-44-8ba06b7fc058>\u001b[0m in \u001b[0;36m<module>\u001b[0;34m\u001b[0m\n\u001b[1;32m     18\u001b[0m \u001b[0;34m\u001b[0m\u001b[0m\n\u001b[1;32m     19\u001b[0m     \u001b[0;31m# get output from the model, given the inputs\u001b[0m\u001b[0;34m\u001b[0m\u001b[0;34m\u001b[0m\u001b[0;34m\u001b[0m\u001b[0m\n\u001b[0;32m---> 20\u001b[0;31m     \u001b[0moutputs\u001b[0m \u001b[0;34m=\u001b[0m \u001b[0mmodel\u001b[0m\u001b[0;34m(\u001b[0m\u001b[0minputs\u001b[0m\u001b[0;34m)\u001b[0m\u001b[0;34m\u001b[0m\u001b[0;34m\u001b[0m\u001b[0m\n\u001b[0m\u001b[1;32m     21\u001b[0m \u001b[0;34m\u001b[0m\u001b[0m\n\u001b[1;32m     22\u001b[0m     \u001b[0;31m# clear built-up gradients\u001b[0m\u001b[0;34m\u001b[0m\u001b[0;34m\u001b[0m\u001b[0;34m\u001b[0m\u001b[0m\n",
            "\u001b[0;32m/usr/local/lib/python3.7/dist-packages/torch/nn/modules/module.py\u001b[0m in \u001b[0;36m_call_impl\u001b[0;34m(self, *input, **kwargs)\u001b[0m\n\u001b[1;32m   1128\u001b[0m         if not (self._backward_hooks or self._forward_hooks or self._forward_pre_hooks or _global_backward_hooks\n\u001b[1;32m   1129\u001b[0m                 or _global_forward_hooks or _global_forward_pre_hooks):\n\u001b[0;32m-> 1130\u001b[0;31m             \u001b[0;32mreturn\u001b[0m \u001b[0mforward_call\u001b[0m\u001b[0;34m(\u001b[0m\u001b[0;34m*\u001b[0m\u001b[0minput\u001b[0m\u001b[0;34m,\u001b[0m \u001b[0;34m**\u001b[0m\u001b[0mkwargs\u001b[0m\u001b[0;34m)\u001b[0m\u001b[0;34m\u001b[0m\u001b[0;34m\u001b[0m\u001b[0m\n\u001b[0m\u001b[1;32m   1131\u001b[0m         \u001b[0;31m# Do not call functions when jit is used\u001b[0m\u001b[0;34m\u001b[0m\u001b[0;34m\u001b[0m\u001b[0;34m\u001b[0m\u001b[0m\n\u001b[1;32m   1132\u001b[0m         \u001b[0mfull_backward_hooks\u001b[0m\u001b[0;34m,\u001b[0m \u001b[0mnon_full_backward_hooks\u001b[0m \u001b[0;34m=\u001b[0m \u001b[0;34m[\u001b[0m\u001b[0;34m]\u001b[0m\u001b[0;34m,\u001b[0m \u001b[0;34m[\u001b[0m\u001b[0;34m]\u001b[0m\u001b[0;34m\u001b[0m\u001b[0;34m\u001b[0m\u001b[0m\n",
            "\u001b[0;32m<ipython-input-22-b29adf2d5acc>\u001b[0m in \u001b[0;36mforward\u001b[0;34m(self, measurements_selected)\u001b[0m\n\u001b[1;32m     20\u001b[0m     \u001b[0;32mdef\u001b[0m \u001b[0mforward\u001b[0m\u001b[0;34m(\u001b[0m\u001b[0mself\u001b[0m\u001b[0;34m,\u001b[0m \u001b[0mmeasurements_selected\u001b[0m\u001b[0;34m)\u001b[0m\u001b[0;34m:\u001b[0m\u001b[0;34m\u001b[0m\u001b[0;34m\u001b[0m\u001b[0m\n\u001b[1;32m     21\u001b[0m         \u001b[0;31m# print(self.layer.weight.data - mod.coef_)\u001b[0m\u001b[0;34m\u001b[0m\u001b[0;34m\u001b[0m\u001b[0;34m\u001b[0m\u001b[0m\n\u001b[0;32m---> 22\u001b[0;31m         \u001b[0mout\u001b[0m \u001b[0;34m=\u001b[0m \u001b[0mself\u001b[0m\u001b[0;34m.\u001b[0m\u001b[0mlayer\u001b[0m\u001b[0;34m(\u001b[0m\u001b[0mmeasurements_selected\u001b[0m\u001b[0;34m)\u001b[0m\u001b[0;34m\u001b[0m\u001b[0;34m\u001b[0m\u001b[0m\n\u001b[0m\u001b[1;32m     23\u001b[0m         \u001b[0;32mreturn\u001b[0m \u001b[0mout\u001b[0m\u001b[0;34m\u001b[0m\u001b[0;34m\u001b[0m\u001b[0m\n",
            "\u001b[0;32m/usr/local/lib/python3.7/dist-packages/torch/nn/modules/module.py\u001b[0m in \u001b[0;36m_call_impl\u001b[0;34m(self, *input, **kwargs)\u001b[0m\n\u001b[1;32m   1128\u001b[0m         if not (self._backward_hooks or self._forward_hooks or self._forward_pre_hooks or _global_backward_hooks\n\u001b[1;32m   1129\u001b[0m                 or _global_forward_hooks or _global_forward_pre_hooks):\n\u001b[0;32m-> 1130\u001b[0;31m             \u001b[0;32mreturn\u001b[0m \u001b[0mforward_call\u001b[0m\u001b[0;34m(\u001b[0m\u001b[0;34m*\u001b[0m\u001b[0minput\u001b[0m\u001b[0;34m,\u001b[0m \u001b[0;34m**\u001b[0m\u001b[0mkwargs\u001b[0m\u001b[0;34m)\u001b[0m\u001b[0;34m\u001b[0m\u001b[0;34m\u001b[0m\u001b[0m\n\u001b[0m\u001b[1;32m   1131\u001b[0m         \u001b[0;31m# Do not call functions when jit is used\u001b[0m\u001b[0;34m\u001b[0m\u001b[0;34m\u001b[0m\u001b[0;34m\u001b[0m\u001b[0m\n\u001b[1;32m   1132\u001b[0m         \u001b[0mfull_backward_hooks\u001b[0m\u001b[0;34m,\u001b[0m \u001b[0mnon_full_backward_hooks\u001b[0m \u001b[0;34m=\u001b[0m \u001b[0;34m[\u001b[0m\u001b[0;34m]\u001b[0m\u001b[0;34m,\u001b[0m \u001b[0;34m[\u001b[0m\u001b[0;34m]\u001b[0m\u001b[0;34m\u001b[0m\u001b[0;34m\u001b[0m\u001b[0m\n",
            "\u001b[0;32m/usr/local/lib/python3.7/dist-packages/torch/nn/modules/linear.py\u001b[0m in \u001b[0;36mforward\u001b[0;34m(self, input)\u001b[0m\n\u001b[1;32m    112\u001b[0m \u001b[0;34m\u001b[0m\u001b[0m\n\u001b[1;32m    113\u001b[0m     \u001b[0;32mdef\u001b[0m \u001b[0mforward\u001b[0m\u001b[0;34m(\u001b[0m\u001b[0mself\u001b[0m\u001b[0;34m,\u001b[0m \u001b[0minput\u001b[0m\u001b[0;34m:\u001b[0m \u001b[0mTensor\u001b[0m\u001b[0;34m)\u001b[0m \u001b[0;34m->\u001b[0m \u001b[0mTensor\u001b[0m\u001b[0;34m:\u001b[0m\u001b[0;34m\u001b[0m\u001b[0;34m\u001b[0m\u001b[0m\n\u001b[0;32m--> 114\u001b[0;31m         \u001b[0;32mreturn\u001b[0m \u001b[0mF\u001b[0m\u001b[0;34m.\u001b[0m\u001b[0mlinear\u001b[0m\u001b[0;34m(\u001b[0m\u001b[0minput\u001b[0m\u001b[0;34m,\u001b[0m \u001b[0mself\u001b[0m\u001b[0;34m.\u001b[0m\u001b[0mweight\u001b[0m\u001b[0;34m,\u001b[0m \u001b[0mself\u001b[0m\u001b[0;34m.\u001b[0m\u001b[0mbias\u001b[0m\u001b[0;34m)\u001b[0m\u001b[0;34m\u001b[0m\u001b[0;34m\u001b[0m\u001b[0m\n\u001b[0m\u001b[1;32m    115\u001b[0m \u001b[0;34m\u001b[0m\u001b[0m\n\u001b[1;32m    116\u001b[0m     \u001b[0;32mdef\u001b[0m \u001b[0mextra_repr\u001b[0m\u001b[0;34m(\u001b[0m\u001b[0mself\u001b[0m\u001b[0;34m)\u001b[0m \u001b[0;34m->\u001b[0m \u001b[0mstr\u001b[0m\u001b[0;34m:\u001b[0m\u001b[0;34m\u001b[0m\u001b[0;34m\u001b[0m\u001b[0m\n",
            "\u001b[0;31mKeyboardInterrupt\u001b[0m: "
          ]
        }
      ]
    },
    {
      "cell_type": "code",
      "source": [
        "\n",
        "print(calculate_mse(model(torch.from_numpy(Xval)).detach().numpy(), Yval.reshape(-1, 1)))\n",
        "print(model(torch.from_numpy(Xval)).detach().numpy())"
      ],
      "metadata": {
        "colab": {
          "base_uri": "https://localhost:8080/"
        },
        "id": "eA_FX1zjpyFm",
        "outputId": "2dec7703-b558-4596-d4fa-c164a8278b7d"
      },
      "execution_count": null,
      "outputs": [
        {
          "output_type": "stream",
          "name": "stdout",
          "text": [
            "57.49534511178887\n",
            "[[100.42223111]\n",
            " [ 25.21287693]\n",
            " [163.88581371]\n",
            " ...\n",
            " [ 48.11876543]\n",
            " [128.98964493]\n",
            " [ 56.80273557]]\n"
          ]
        }
      ]
    },
    {
      "cell_type": "code",
      "source": [
        "# Total sum of absolute weights is at the level of 10^4\n",
        "print(model.layer.weight.abs())\n",
        "print(torch.sum(model.layer.weight.abs()).item())\n",
        "print(torch.sum(model.layer.weight!=0))\n",
        "\n",
        "weights = model.layer.weight.detach().numpy()[0]\n",
        "plt.bar([x for x in range(len(weights))], weights)\n",
        "plt.show()"
      ],
      "metadata": {
        "colab": {
          "base_uri": "https://localhost:8080/",
          "height": 926
        },
        "id": "UbzdKeTvA21-",
        "outputId": "2d721570-8095-471e-e767-66787fb3939f"
      },
      "execution_count": null,
      "outputs": [
        {
          "output_type": "stream",
          "name": "stdout",
          "text": [
            "tensor([[  74.4363,    0.0000,  169.2506,    0.0000,  139.6184,  594.6636,\n",
            "          876.0143,  898.0406,  777.4304,    0.0000,    0.0000,    0.0000,\n",
            "            0.0000,    0.0000,    0.0000,    0.0000,    0.0000,   61.6204,\n",
            "          619.1851,  830.5707,  607.2450,    0.0000,    0.0000,    0.0000,\n",
            "            0.0000,    0.0000,    0.0000,    0.0000,    0.0000,    0.0000,\n",
            "          671.6254,  656.7470,    0.0000,    0.0000,    0.0000,    0.0000,\n",
            "            0.0000,    0.0000,    0.0000,    0.0000,    0.0000,    0.0000,\n",
            "            0.0000,    0.0000,    0.0000,  172.6397,  157.1411,  224.2349,\n",
            "            0.0000,    0.0000,    0.0000,    0.0000,    0.0000,    0.0000,\n",
            "            0.0000,  751.8110,  729.2045,    0.0000,  873.5240,  282.9598,\n",
            "          656.6588,  521.6854,    0.0000,    0.0000,    0.0000,    0.0000,\n",
            "         1082.1692,  666.5916,    0.0000,    0.0000,  866.3478,  984.6144,\n",
            "            0.0000,    0.0000,    0.0000, 1069.0557,  874.6668, 1027.2312,\n",
            "          967.0959,    0.0000,    0.0000,    0.0000,    0.0000,    0.0000,\n",
            "            0.0000,    0.0000,    0.0000,    0.0000,    0.0000,    0.0000,\n",
            "            0.0000,    0.0000,  486.2000,  573.0980,    0.0000,    0.0000,\n",
            "            0.0000, 1967.7134, 1113.3925,    0.0000,  219.7583,    1.9937,\n",
            "            0.0000,    0.0000,    0.0000,    0.0000,  123.6596,    0.0000,\n",
            "            0.0000,    0.0000,    0.0000,    0.0000,    0.0000,    0.0000,\n",
            "            0.0000,    0.0000,  277.2945,   70.7658,    0.0000,    0.0000,\n",
            "            0.0000,    0.0000,    0.0000,    0.0000,    0.0000,    0.0000,\n",
            "            0.0000,    0.0000,    0.0000,    0.0000,    0.0000,    0.0000,\n",
            "          127.5591,    0.0000,    0.0000,    0.0000,    0.0000,    0.0000,\n",
            "            0.0000,    0.0000,    0.0000,    0.0000,    0.0000,    0.0000,\n",
            "            0.0000,    0.0000,  303.8761,  399.8061,  421.8444,    0.0000,\n",
            "            0.0000,    0.0000,    0.0000,    0.0000,  500.9552,  554.0610,\n",
            "          719.9191,    0.0000,  639.3374,  458.5359,    0.0000,  193.3709,\n",
            "          194.1347,  256.9515,  297.6618,  281.1157,  255.3843,    0.0000,\n",
            "          207.5654,    0.0000,    0.0000,    0.0000,  547.5409, 1283.6216,\n",
            "         1773.1392, 1683.1439, 1081.7146,   92.3385,    0.0000,    0.0000,\n",
            "            0.0000,  320.8290,  512.6458,    0.0000,    0.0000,    0.0000,\n",
            "          389.2619,  687.3125,  907.7417,  857.4359,  499.3335,  283.8665,\n",
            "            0.0000,    0.0000,    0.0000,    0.0000,  450.3188]],\n",
            "       dtype=torch.float64, grad_fn=<AbsBackward0>)\n",
            "40900.27802086537\n",
            "tensor(70)\n"
          ]
        },
        {
          "output_type": "display_data",
          "data": {
            "text/plain": [
              "<Figure size 432x288 with 1 Axes>"
            ],
            "image/png": "[encoded data removed]"
          },
          "metadata": {
            "needs_background": "light"
          }
        }
      ]
    },
    {
      "cell_type": "code",
      "source": [
        "idxs = []\n",
        "for i in range(197):\n",
        "  if model.layer.weight.data[0, i] != 0:\n",
        "    idxs.append(i) \n",
        "print(idxs)"
      ],
      "metadata": {
        "colab": {
          "base_uri": "https://localhost:8080/"
        },
        "id": "Zlf3Iyc4MkvA",
        "outputId": "ca5e7fbc-e6b1-4f60-eebb-3fecacb29a6c"
      },
      "execution_count": null,
      "outputs": [
        {
          "output_type": "stream",
          "name": "stdout",
          "text": [
            "[0, 2, 4, 5, 6, 7, 8, 17, 18, 19, 20, 30, 31, 45, 46, 47, 55, 56, 58, 59, 60, 61, 66, 67, 70, 71, 75, 76, 77, 78, 92, 93, 97, 98, 100, 101, 106, 116, 117, 132, 146, 147, 148, 154, 155, 156, 158, 159, 161, 162, 163, 164, 165, 166, 168, 172, 173, 174, 175, 176, 177, 181, 182, 186, 187, 188, 189, 190, 191, 196]\n"
          ]
        }
      ]
    },
    {
      "cell_type": "code",
      "source": [
        "import sklearn.linear_model\n",
        "import sklearn\n",
        "\n",
        "# Check what true solution is\n",
        "mod = sklearn.linear_model.LinearRegression()\n",
        "mod.fit(Xsub_train[:, idxs], Ysub_train[:, 0])\n",
        "print(calculate_mse(mod.predict(Xval[:, idxs]), Yval))\n",
        "# Total sum of absolute weights is at the level of 10^6\n",
        "print(np.sum(np.abs(mod.coef_)))\n",
        "plt.bar([x for x in range(len(mod.coef_))], mod.coef_)\n",
        "plt.show()\n",
        "print(mod.coef_)"
      ],
      "metadata": {
        "colab": {
          "base_uri": "https://localhost:8080/",
          "height": 643
        },
        "id": "OTfIPpoMM3lB",
        "outputId": "2b58ceec-0ff3-4935-b885-dfe76ae2cbf7"
      },
      "execution_count": null,
      "outputs": [
        {
          "output_type": "stream",
          "name": "stdout",
          "text": [
            "1.4347607174040822\n",
            "37708979.70973394\n"
          ]
        },
        {
          "output_type": "display_data",
          "data": {
            "text/plain": [
              "<Figure size 432x288 with 1 Axes>"
            ],
            "image/png": "[encoded data removed]"
          },
          "metadata": {
            "needs_background": "light"
          }
        },
        {
          "output_type": "stream",
          "name": "stdout",
          "text": [
            "[-7.97393917e+03  4.20547740e+04 -1.84092652e+05  1.80063863e+05\n",
            "  3.25468413e+05 -7.63040217e+05  4.40314280e+05 -7.98920230e+05\n",
            "  2.08359998e+06 -2.17030079e+06  8.86831269e+05 -1.86791170e+05\n",
            "  1.50414755e+05  8.72328284e+05 -1.76823109e+06  9.17681692e+05\n",
            " -2.16152335e+04 -1.73963212e+04  1.73827550e+05 -3.31856665e+05\n",
            "  3.60940737e+05 -2.18167360e+05  1.25846972e+05 -1.28897212e+05\n",
            "  1.50479882e+04  4.55154915e+04  9.48057591e+04  2.72485294e+04\n",
            " -5.02887690e+05  3.66904439e+05 -1.00793837e+04  6.10407122e+03\n",
            " -8.20573449e+03  9.30645905e+03 -2.85506025e+03  9.40069236e+02\n",
            "  2.57688723e+02 -5.39324848e+03  5.79005967e+03  1.22614949e+03\n",
            " -3.03534662e+05  8.62724703e+05 -6.60017477e+05  1.40591944e+06\n",
            " -2.57455991e+06  1.17986689e+06  9.87487206e+05 -1.35112713e+06\n",
            "  1.95060014e+06 -3.32123666e+06  2.90758291e+06 -1.18566839e+06\n",
            " -5.36627316e+05  9.96753940e+05 -4.74389203e+05  4.94946553e+05\n",
            " -6.04825377e+05  1.30732728e+05  1.77463295e+05 -7.13457119e+04\n",
            " -5.04480641e+04  5.59134368e+04 -4.21618429e+04  4.21470027e+04\n",
            " -6.29196381e+04  3.46827525e+05 -4.85859867e+05  1.69523410e+05\n",
            "  1.34981675e+04 -3.04783575e+03]\n"
          ]
        }
      ]
    },
    {
      "cell_type": "code",
      "source": [
        "import sklearn.linear_model\n",
        "import sklearn\n",
        "\n",
        "# Check what true solution is\n",
        "mod = sklearn.linear_model.LinearRegression()\n",
        "Ym, Ystd = np.mean(Ysub_train, axis=0), np.std(Ysub_train, axis=0)\n",
        "mod.fit(Xsub_train[:, idxs], (Ysub_train[:, 0] - Ym) / Ystd)\n",
        "print(calculate_mse(mod.predict(Xval[:, idxs]), (Yval - Ym) / Ystd))\n",
        "# Total sum of absolute weights is at the level of 10^6\n",
        "print(np.sum(np.abs(mod.coef_)))\n",
        "plt.bar([x for x in range(len(mod.coef_))], mod.coef_)\n",
        "plt.show()\n",
        "print(mod.coef_)"
      ],
      "metadata": {
        "colab": {
          "base_uri": "https://localhost:8080/",
          "height": 632
        },
        "id": "yDjGJXQYQ5zP",
        "outputId": "2bac0f32-f2df-4ad1-a169-d3dcfdc80da4"
      },
      "execution_count": null,
      "outputs": [
        {
          "output_type": "stream",
          "name": "stdout",
          "text": [
            "0.0004283993831758332\n",
            "651597.57826748\n"
          ]
        },
        {
          "output_type": "display_data",
          "data": {
            "text/plain": [
              "<Figure size 432x288 with 1 Axes>"
            ],
            "image/png": "[encoded data removed]"
          },
          "metadata": {
            "needs_background": "light"
          }
        },
        {
          "output_type": "stream",
          "name": "stdout",
          "text": [
            "[-1.37786795e+02  7.26691337e+02 -3.18105467e+03  3.11143865e+03\n",
            "  5.62397687e+03 -1.31850599e+04  7.60847205e+03 -1.38050536e+04\n",
            "  3.60038567e+04 -3.75020153e+04  1.53241247e+04 -3.22768409e+03\n",
            "  2.59911275e+03  1.50735183e+04 -3.05543959e+04  1.58572089e+04\n",
            " -3.73503444e+02 -3.00602160e+02  3.00367742e+03 -5.73436357e+03\n",
            "  6.23692585e+03 -3.76985335e+03  2.17459031e+03 -2.22729737e+03\n",
            "  2.60023813e+02  7.86491288e+02  1.63820935e+03  4.70844767e+02\n",
            " -8.68971803e+03  6.33997647e+03 -1.74168117e+02  1.05476151e+02\n",
            " -1.41792134e+02  1.60812258e+02 -4.93344121e+01  1.62440576e+01\n",
            "  4.45276825e+00 -9.31933899e+01  1.00050144e+02  2.11874213e+01\n",
            " -5.24496956e+03  1.49075719e+04 -1.14048641e+04  2.42937812e+04\n",
            " -4.44874674e+04  2.03876747e+04  1.70634230e+04 -2.33469897e+04\n",
            "  3.37056674e+04 -5.73897725e+04  5.02419848e+04 -2.04879224e+04\n",
            " -9.27272661e+03  1.72235488e+04 -8.19727445e+03  8.55249805e+03\n",
            " -1.04511645e+04  2.25901443e+03  3.06650177e+03 -1.23282819e+03\n",
            " -8.71724365e+02  9.66164035e+02 -7.28541449e+02  7.28285016e+02\n",
            " -1.08722867e+03  5.99305462e+03 -8.39548338e+03  2.92930343e+03\n",
            "  2.33243469e+02 -5.26655033e+01]\n"
          ]
        }
      ]
    },
    {
      "cell_type": "code",
      "source": [
        "weights = []\n",
        "cnt = 0\n",
        "for i in range(197):\n",
        "  if model.layer.weight.data[0, i] != 0:\n",
        "    weights.append(mod.coef_[cnt])\n",
        "    cnt += 1\n",
        "  else:\n",
        "    weights.append(0)\n",
        "plt.bar([x for x in range(len(weights))], weights)\n",
        "plt.show()"
      ],
      "metadata": {
        "colab": {
          "base_uri": "https://localhost:8080/",
          "height": 276
        },
        "id": "QkYJufYTUHsI",
        "outputId": "27c68629-c37a-4cd8-b087-96397ac93b91"
      },
      "execution_count": null,
      "outputs": [
        {
          "output_type": "display_data",
          "data": {
            "text/plain": [
              "<Figure size 432x288 with 1 Axes>"
            ],
            "image/png": "[encoded data removed]"
          },
          "metadata": {
            "needs_background": "light"
          }
        }
      ]
    },
    {
      "cell_type": "code",
      "source": [
        "print(weights)\n",
        "plt.plot([x for x in range(len(weights))], np.abs(weights))\n",
        "plt.yscale('log')\n",
        "plt.show()"
      ],
      "metadata": {
        "colab": {
          "base_uri": "https://localhost:8080/",
          "height": 303
        },
        "id": "Pc6OvNzh82h3",
        "outputId": "926b1e39-a637-4313-fe8d-e0c39f179205"
      },
      "execution_count": null,
      "outputs": [
        {
          "output_type": "stream",
          "name": "stdout",
          "text": [
            "[-1923.1461696264903, 0, 0, 0, 57507.9118536355, -240530.85331473968, 329001.2928506328, -146502.18836323495, 0, 0, 0, 0, 0, 0, 0, 0, 0, 0, 30200.919365277154, -30091.237746266215, 0, 0, 0, 0, 0, 0, 0, 0, 0, 0, 83520.42351748115, -89616.53327379673, 0, 0, 0, 0, 0, 0, 0, 0, 0, 0, 0, 0, 0, 17648.891898585312, 0, 0, 0, 0, 0, 0, 0, 0, 0, -6075.535858261194, -11655.647977394405, 0, 0, 0, 56375.025291815226, -45168.5323834603, 0, 0, 0, 44935.055298574196, -68120.90506556699, 0, 0, 132161.4445598571, -123039.7148744194, 0, 0, 0, 0, -70160.40437879533, 0, 371987.2363753351, -305527.73747181497, 0, 0, 0, 0, 0, 0, 0, 0, 0, 0, 0, 0, 0, 22084.43580460845, 0, 0, -2235.9263886722038, 0, -6311.752727846198, 461.56721689205864, 0, 0, -67.76422627279717, 0, 0, 0, 0, 0, 24.346816119474266, 0, 0, 0, 0, 0, 0, 0, 0, -1383.1258163758648, 1721.7038247070964, 0, 0, 0, 0, 0, 0, 0, 0, 0, 0, 0, 0, 0, 0, 311.88867881964876, 0, 0, 0, 0, 0, 0, 0, 0, 0, 0, 0, 0, 0, 0, 0, 14336.631613621874, -38019.187914535665, 0, 0, 0, 0, 1049488.7850375557, -3568858.4867101046, 4611371.85164033, -2281254.396046433, 0, 0, 0, 1189386.8076213354, -1639167.248072692, 807786.0480290977, -147614.4872119039, 0, 0, 0, 0, 0, 0, 0, 29193.704870154055, -60278.66841459142, 49392.56702573843, -87048.05304988073, 55446.071030101506, 0, 0, 0, 0, 0, 276.0143812783417, 0, 0, 0, 0, -1511.3931288143633, 439093.87957201235, -689097.7440073066, 267660.6536986327, 0, 0, 0, 0, 0, 0]\n"
          ]
        },
        {
          "output_type": "display_data",
          "data": {
            "text/plain": [
              "<Figure size 432x288 with 1 Axes>"
            ],
            "image/png": "[encoded data removed]"
          },
          "metadata": {
            "needs_background": "light"
          }
        }
      ]
    },
    {
      "cell_type": "code",
      "source": [
        "prev_model = model"
      ],
      "metadata": {
        "id": "YJCcMeOCIWEG"
      },
      "execution_count": null,
      "outputs": []
    }
  ]
}