{
  "nbformat": 4,
  "nbformat_minor": 0,
  "metadata": {
    "colab": {
      "provenance": []
    },
    "kernelspec": {
      "name": "python3",
      "display_name": "Python 3"
    },
    "language_info": {
      "name": "python"
    }
  },
  "cells": [
    {
      "cell_type": "code",
      "execution_count": 6,
      "metadata": {
        "colab": {
          "base_uri": "https://localhost:8080/"
        },
        "id": "IOk92C-dLbAj",
        "outputId": "be0974ca-302d-45ba-ce8f-0bbd6058e8f3"
      },
      "outputs": [
        {
          "output_type": "stream",
          "name": "stdout",
          "text": [
            "Drive already mounted at /content/gdrive; to attempt to forcibly remount, call drive.mount(\"/content/gdrive\", force_remount=True).\n",
            "/content/gdrive/.shortcut-targets-by-id/1EaHvULJYewcfEpQ7wlYgmG1eRbVcahUv/optimized_bio_sensor/rockley\n"
          ]
        }
      ],
      "source": [
        "from google.colab import drive\n",
        "drive.mount('/content/gdrive')\n",
        "import os\n",
        "# os.environ['PYTHONPATH'] += ':/content/gdrive/MyDrive/22FL/CS101-TA/optimized_bio_sensor/RockleyCodesign'\n",
        "os.environ['PYTHONPATH'] += ':/content/gdrive/MyDrive/optimized_bio_sensor/RockleyCodesign'\n",
        "# %cd /content/gdrive/MyDrive/22FL/CS101-TA/optimized_bio_sensor/RockleyCodesign\n",
        "%cd /content/gdrive/MyDrive/optimized_bio_sensor/rockley"
      ]
    },
    {
      "cell_type": "code",
      "source": [
        "import torch.nn as nn\n",
        "import torch\n",
        "import numpy as np\n",
        "import matplotlib.pyplot as plt"
      ],
      "metadata": {
        "id": "MUgKPBz5LsOl"
      },
      "execution_count": 7,
      "outputs": []
    },
    {
      "cell_type": "code",
      "source": [
        "import utils.data as data_loader\n",
        " \n",
        "train, val, test = data_loader.load_train_test_val(\n",
        "    trainfile=\"../data/train_regression.parquet\",\n",
        "    testfile=\"../data/test_regression.parquet\",\n",
        "    standardize=True,\n",
        "    precision=64,\n",
        ")\n",
        "\n",
        "Xtrain, Ytrain = train\n",
        "Xval, Yval = val\n",
        "Xtest, Ytest = test\n",
        "\n",
        "def convert(Y):\n",
        "  cY = np.array(Y)\n",
        "  for i in range(len(Y)):\n",
        "    if Y[i] < 60:\n",
        "      cY[i] = 0\n",
        "    elif 60 <= Y[i] < 100:\n",
        "      cY[i] = 1\n",
        "    elif 100 <= Y[i] < 160:\n",
        "      cY[i] = 2\n",
        "    else:\n",
        "      cY[i] = 3\n",
        "  return cY\n",
        "\n",
        "Yclass_train = (Ytrain < 80).astype(int)\n",
        "Yclass_val = (Yval < 80).astype(int)\n",
        "Ymclass_train = convert(Ytrain)\n",
        "Ymclass_val = convert(Yval)"
      ],
      "metadata": {
        "id": "nQh-dXVgLt3i"
      },
      "execution_count": 62,
      "outputs": []
    },
    {
      "cell_type": "code",
      "source": [
        "from sklearn.linear_model import LogisticRegression\n",
        "import sklearn.metrics\n",
        "\n",
        "clf = LogisticRegression(C=2, max_iter=400)\n",
        "clf.fit(Xtrain, Yclass_train)\n",
        "predicted = clf.predict(Xval)\n",
        "print(\"Accuracy:\", np.mean(predicted == Yclass_val))\n",
        "\n",
        "prob_predict = clf.predict_proba(Xval)\n",
        "print(\"AUC:\", sklearn.metrics.roc_auc_score(Yclass_val, prob_predict[:, 1]))"
      ],
      "metadata": {
        "colab": {
          "base_uri": "https://localhost:8080/"
        },
        "id": "IMMRpxScL1At",
        "outputId": "eae8da92-01ed-4845-e6a5-10c5f2288232"
      },
      "execution_count": 63,
      "outputs": [
        {
          "output_type": "stream",
          "name": "stdout",
          "text": [
            "Accuracy: 0.94615625\n",
            "AUC: 0.9899060594378744\n"
          ]
        },
        {
          "output_type": "stream",
          "name": "stderr",
          "text": [
            "/usr/local/lib/python3.7/dist-packages/sklearn/linear_model/_logistic.py:818: ConvergenceWarning: lbfgs failed to converge (status=1):\n",
            "STOP: TOTAL NO. of ITERATIONS REACHED LIMIT.\n",
            "\n",
            "Increase the number of iterations (max_iter) or scale the data as shown in:\n",
            "    https://scikit-learn.org/stable/modules/preprocessing.html\n",
            "Please also refer to the documentation for alternative solver options:\n",
            "    https://scikit-learn.org/stable/modules/linear_model.html#logistic-regression\n",
            "  extra_warning_msg=_LOGISTIC_SOLVER_CONVERGENCE_MSG,\n"
          ]
        }
      ]
    },
    {
      "cell_type": "code",
      "source": [
        "Xtrain_sub = Xtrain[:10000]\n",
        "Ytrain_sub = Ymclass_train[:10000]"
      ],
      "metadata": {
        "id": "uHLLl8upC2ZC"
      },
      "execution_count": 64,
      "outputs": []
    },
    {
      "cell_type": "code",
      "source": [
        "from sklearn.linear_model import LogisticRegression\n",
        "import sklearn.metrics\n",
        "\n",
        "clf = LogisticRegression(C=100, max_iter=10000)\n",
        "clf.fit(Xtrain_sub, Ytrain_sub)\n",
        "predicted = clf.predict(Xval)\n",
        "print(\"Accuracy:\", np.mean(predicted == Ymclass_val))\n",
        "print(predicted)\n",
        "\n",
        "prob_predict = clf.predict_proba(Xval)\n",
        "print(\"AUC OVR:\", sklearn.metrics.roc_auc_score(Ymclass_val, prob_predict, multi_class='ovr'))\n",
        "\n",
        "prob_predict = clf.predict_proba(Xval)\n",
        "print(\"AUC OVO:\", sklearn.metrics.roc_auc_score(Ymclass_val, prob_predict, multi_class='ovo'))"
      ],
      "metadata": {
        "colab": {
          "base_uri": "https://localhost:8080/"
        },
        "id": "UTU-4uZ7Shxx",
        "outputId": "ad936694-04d4-4ed4-f8f8-758b1c65f409"
      },
      "execution_count": 65,
      "outputs": [
        {
          "output_type": "stream",
          "name": "stdout",
          "text": [
            "Accuracy: 0.90840625\n",
            "[1. 0. 2. ... 0. 2. 0.]\n",
            "AUC OVR: 0.9930954348388101\n",
            "AUC OVO: 0.9930743666531616\n"
          ]
        }
      ]
    },
    {
      "cell_type": "code",
      "source": [
        "import sklearn.metrics\n",
        "\n",
        "sklearn.metrics.plot_confusion_matrix(clf, Xval, Ymclass_val)"
      ],
      "metadata": {
        "colab": {
          "base_uri": "https://localhost:8080/",
          "height": 354
        },
        "id": "m1yVdlJ0s9qC",
        "outputId": "a199aac6-886a-4a8f-cba3-fd0f0d6ad7b5"
      },
      "execution_count": 66,
      "outputs": [
        {
          "output_type": "stream",
          "name": "stderr",
          "text": [
            "/usr/local/lib/python3.7/dist-packages/sklearn/utils/deprecation.py:87: FutureWarning: Function plot_confusion_matrix is deprecated; Function `plot_confusion_matrix` is deprecated in 1.0 and will be removed in 1.2. Use one of the class methods: ConfusionMatrixDisplay.from_predictions or ConfusionMatrixDisplay.from_estimator.\n",
            "  warnings.warn(msg, category=FutureWarning)\n"
          ]
        },
        {
          "output_type": "execute_result",
          "data": {
            "text/plain": [
              "<sklearn.metrics._plot.confusion_matrix.ConfusionMatrixDisplay at 0x7fdb5408ed10>"
            ]
          },
          "metadata": {},
          "execution_count": 66
        },
        {
          "output_type": "display_data",
          "data": {
            "text/plain": [
              "<Figure size 432x288 with 2 Axes>"
            ],
            "image/png": "[encoded data removed]"
          },
          "metadata": {
            "needs_background": "light"
          }
        }
      ]
    },
    {
      "cell_type": "markdown",
      "source": [
        "# Cut out"
      ],
      "metadata": {
        "id": "5K5a59TuUyEv"
      }
    },
    {
      "cell_type": "code",
      "source": [
        "import utils.data as data_loader\n",
        " \n",
        "train, val, test = data_loader.load_train_test_val(\n",
        "    trainfile=\"../data/train_regression.parquet\",\n",
        "    testfile=\"../data/test_regression.parquet\",\n",
        "    standardize=True,\n",
        "    precision=64,\n",
        ")\n",
        "\n",
        "Xtrain, Ytrain = train\n",
        "Xval, Yval = val\n",
        "Xtest, Ytest = test\n",
        "\n",
        "def convert(Y):\n",
        "  cY = np.array(Y)\n",
        "  for i in range(len(Y)):\n",
        "    if Y[i] < 60:\n",
        "      cY[i] = 0\n",
        "    elif 60 <= Y[i] < 100:\n",
        "      cY[i] = 1\n",
        "    elif 100 <= Y[i] < 160:\n",
        "      cY[i] = 2\n",
        "    else:\n",
        "      cY[i] = 3\n",
        "  return cY\n",
        "\n",
        "Yclass_train = (Ytrain < 80).astype(int)\n",
        "Yclass_val = (Yval < 80).astype(int)\n",
        "Ymclass_train = convert(Ytrain)\n",
        "Ymclass_val = convert(Yval)"
      ],
      "metadata": {
        "id": "qcUpou-FU127"
      },
      "execution_count": 71,
      "outputs": []
    },
    {
      "cell_type": "code",
      "source": [
        "Xtrain_sub = Xtrain[:10000]\n",
        "Ytrain_sub = Yclass_train[:10000]"
      ],
      "metadata": {
        "id": "JMRt9HHUVIGA"
      },
      "execution_count": 74,
      "outputs": []
    },
    {
      "cell_type": "code",
      "source": [
        "from sklearn.linear_model import LogisticRegression\n",
        "import sklearn.metrics\n",
        "\n",
        "clf = LogisticRegression(C=5, max_iter=1000)\n",
        "clf.fit(Xtrain_sub, Ytrain_sub)\n",
        "predicted = clf.predict(Xval)\n",
        "print(\"Accuracy:\", np.mean(predicted == Yclass_val))\n",
        "\n",
        "prob_predict = clf.predict_proba(Xval)\n",
        "print(\"AUC:\", sklearn.metrics.roc_auc_score(Yclass_val, prob_predict[:, 1]))"
      ],
      "metadata": {
        "colab": {
          "base_uri": "https://localhost:8080/"
        },
        "id": "L2Q4fjK9U6J2",
        "outputId": "b9f27589-26fa-4d75-f1dd-95a6155f7f9f"
      },
      "execution_count": 79,
      "outputs": [
        {
          "output_type": "stream",
          "name": "stdout",
          "text": [
            "Accuracy: 0.93115625\n",
            "AUC: 0.9847243536308103\n"
          ]
        }
      ]
    },
    {
      "cell_type": "code",
      "source": [
        "s = sorted([(clf.coef_[0][i], i) for i in range(197)], reverse=True)\n",
        "\n",
        "acc = []\n",
        "auc = []\n",
        "kvals = range(10, 197, 10)\n",
        "for k in kvals:\n",
        "  idxs = [s[i][1] for i in range(k)]\n",
        "  Xcut = Xtrain_sub[:, idxs]\n",
        "  cut_clf = LogisticRegression(C=20, max_iter=2000)\n",
        "  cut_clf.fit(Xcut, Ytrain_sub)\n",
        "  predicted = cut_clf.predict(Xval[:, idxs])\n",
        "  acc.append(np.mean(predicted == Yclass_val))\n",
        "\n",
        "  prob_predict = cut_clf.predict_proba(Xval[:, idxs])\n",
        "  auc.append(sklearn.metrics.roc_auc_score(Yclass_val, prob_predict[:, 1]))\n",
        "\n",
        "plt.plot(kvals, acc)\n",
        "plt.plot(kvals, auc)\n",
        "plt.title(\"Performance vs. No. Lasers\")\n",
        "plt.xlabel(\"No. Lasers\")\n",
        "plt.ylabel(\"Score\")\n",
        "plt.show()"
      ],
      "metadata": {
        "colab": {
          "base_uri": "https://localhost:8080/",
          "height": 513
        },
        "id": "HEt17wmhSyKB",
        "outputId": "4e21a8d5-b484-421d-a7eb-3213c6c4fa87"
      },
      "execution_count": 96,
      "outputs": [
        {
          "output_type": "display_data",
          "data": {
            "text/plain": [
              "<Figure size 432x288 with 1 Axes>"
            ],
            "image/png": "[encoded data removed]"
          },
          "metadata": {
            "needs_background": "light"
          }
        },
        {
          "output_type": "display_data",
          "data": {
            "text/plain": [
              "<Figure size 432x288 with 1 Axes>"
            ],
            "image/png": "[encoded data removed]"
          },
          "metadata": {
            "needs_background": "light"
          }
        }
      ]
    },
    {
      "cell_type": "code",
      "source": [
        "acc = []\n",
        "auc = []\n",
        "kvals = range(10, 197, 10)\n",
        "for k in kvals:\n",
        "  idxs = [int(i / k * 196) for i in range(1, k + 1)]\n",
        "  # print(idxs)\n",
        "  Xcut = Xtrain_sub[:, idxs]\n",
        "  cut_clf = LogisticRegression(C=20, max_iter=2000)\n",
        "  cut_clf.fit(Xcut, Ytrain_sub)\n",
        "  predicted = cut_clf.predict(Xval[:, idxs])\n",
        "  acc.append(np.mean(predicted == Yclass_val))\n",
        "\n",
        "  prob_predict = cut_clf.predict_proba(Xval[:, idxs])\n",
        "  auc.append(sklearn.metrics.roc_auc_score(Yclass_val, prob_predict[:, 1]))\n",
        "\n",
        "plt.plot(kvals, acc)\n",
        "plt.plot(kvals, auc)\n",
        "plt.title(\"Performance vs. No. Lasers\")\n",
        "plt.xlabel(\"No. Lasers\")\n",
        "plt.ylabel(\"Score\")\n",
        "plt.legend([\"Accuracy\", \"AUC\"])\n",
        "plt.show()"
      ],
      "metadata": {
        "colab": {
          "base_uri": "https://localhost:8080/",
          "height": 295
        },
        "id": "dw3tIGl1YIMu",
        "outputId": "8e729dc4-1c0c-4767-f8a8-6355da61021a"
      },
      "execution_count": 99,
      "outputs": [
        {
          "output_type": "display_data",
          "data": {
            "text/plain": [
              "<Figure size 432x288 with 1 Axes>"
            ],
            "image/png": "[encoded data removed]"
          },
          "metadata": {
            "needs_background": "light"
          }
        }
      ]
    },
    {
      "cell_type": "code",
      "source": [
        "Xtrain_sub = Xtrain[:10000]\n",
        "Ymtrain_sub = Ymclass_train[:10000]"
      ],
      "metadata": {
        "id": "mT7VgCp5aOqC"
      },
      "execution_count": 100,
      "outputs": []
    },
    {
      "cell_type": "code",
      "source": [
        "acc = []\n",
        "auc = []\n",
        "kvals = range(10, 197, 10)\n",
        "for k in kvals:\n",
        "  idxs = [int(i / k * 196) for i in range(1, k + 1)]\n",
        "  # print(idxs)\n",
        "  Xcut = Xtrain_sub[:, idxs]\n",
        "  cut_clf = LogisticRegression(C=100, max_iter=10000)\n",
        "  cut_clf.fit(Xcut, Ymtrain_sub)\n",
        "  predicted = cut_clf.predict(Xval[:, idxs])\n",
        "  acc.append(np.mean(predicted == Ymclass_val))\n",
        "\n",
        "  prob_predict = cut_clf.predict_proba(Xval[:, idxs])\n",
        "  auc.append(sklearn.metrics.roc_auc_score(Ymclass_val, prob_predict, multi_class='ovr'))\n",
        "\n",
        "plt.plot(kvals, acc)\n",
        "plt.plot(kvals, auc)\n",
        "plt.title(\"Performance vs. No. Lasers\")\n",
        "plt.xlabel(\"No. Lasers\")\n",
        "plt.ylabel(\"Score\")\n",
        "plt.legend([\"Accuracy\", \"AUC\"])\n",
        "plt.show()"
      ],
      "metadata": {
        "colab": {
          "base_uri": "https://localhost:8080/",
          "height": 295
        },
        "id": "B9wWtwW5aG41",
        "outputId": "16364e4a-d942-472c-b55a-3d4d3b3a4f46"
      },
      "execution_count": 102,
      "outputs": [
        {
          "output_type": "display_data",
          "data": {
            "text/plain": [
              "<Figure size 432x288 with 1 Axes>"
            ],
            "image/png": "[encoded data removed]"
          },
          "metadata": {
            "needs_background": "light"
          }
        }
      ]
    }
  ]
}