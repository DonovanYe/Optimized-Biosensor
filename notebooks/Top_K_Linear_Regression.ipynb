{
  "cells": [
    {
      "cell_type": "code",
      "execution_count": 1,
      "metadata": {
        "id": "oAEWhpPF90_S"
      },
      "outputs": [],
      "source": [
        "import pandas as pd\n",
        "import numpy as np\n",
        "import matplotlib.pyplot as plt\n",
        "\n",
        "import sklearn\n",
        "from sklearn.model_selection import KFold\n",
        "from sklearn.model_selection import train_test_split\n",
        "\n",
        "from sklearn.datasets import make_regression\n",
        "from sklearn.linear_model import LinearRegression\n",
        "from sklearn.metrics import mean_squared_error\n",
        "from matplotlib import pyplot\n",
        "\n",
        "import typing"
      ]
    },
    {
      "cell_type": "code",
      "execution_count": 3,
      "metadata": {
        "colab": {
          "base_uri": "https://localhost:8080/"
        },
        "id": "Z0NRUs8z97O-",
        "outputId": "d0412f5d-aa12-43ce-a7f9-f3a041310ee6"
      },
      "outputs": [
        {
          "output_type": "stream",
          "name": "stdout",
          "text": [
            "Mounted at /content/gdrive\n",
            "/content/gdrive/.shortcut-targets-by-id/1EaHvULJYewcfEpQ7wlYgmG1eRbVcahUv/optimized_bio_sensor/RockleyCodesign\n"
          ]
        }
      ],
      "source": [
        "from google.colab import drive\n",
        "drive.mount('/content/gdrive')\n",
        "import os\n",
        "# os.environ['PYTHONPATH'] += ':/content/gdrive/MyDrive/22FL/CS101-TA/optimized_bio_sensor/RockleyCodesign'\n",
        "os.environ['PYTHONPATH'] += ':/content/gdrive/MyDrive/optimized_bio_sensor/RockleyCodesign'\n",
        "# %cd /content/gdrive/MyDrive/22FL/CS101-TA/optimized_bio_sensor/RockleyCodesign\n",
        "%cd /content/gdrive/MyDrive/optimized_bio_sensor/RockleyCodesign"
      ]
    },
    {
      "cell_type": "markdown",
      "metadata": {
        "id": "2ZwtS7Jn-Fny"
      },
      "source": [
        "## Utility Functions"
      ]
    },
    {
      "cell_type": "code",
      "execution_count": 5,
      "metadata": {
        "id": "tKxr2WUCfEE3"
      },
      "outputs": [],
      "source": [
        "NUM_LASERS = 197\n",
        "\n",
        "\n",
        "def _process_data(\n",
        "    data: pd.DataFrame,\n",
        "    standardize: bool\n",
        ") -> typing.Tuple[np.array, np.array]:\n",
        "    \"\"\"\n",
        "    Split data into lasers X and ethanol concentration y. Standardize the\n",
        "    input data to have zero mean and one standard deviation if specified.\n",
        "    \"\"\"\n",
        "    X = data.iloc[:, :NUM_LASERS].to_numpy(copy=True)\n",
        "    y = data.iloc[:, NUM_LASERS].to_numpy(copy=True)\n",
        "\n",
        "    if standardize:\n",
        "        X = (X - X.mean(axis=0)) / X.std(axis=0)\n",
        "    \n",
        "    return X, y\n",
        "\n",
        "def _standardize_given(\n",
        "    data: np.array,\n",
        "    mean: np.array,\n",
        "    std: np.array,\n",
        ") -> np.array:\n",
        "    norm = np.array(data)\n",
        "    for i in range(len(mean)):\n",
        "        norm[:, i] = (norm[:, i] - mean[i]) / std[i]\n",
        "    return norm\n",
        "\n",
        "def _split_data(\n",
        "    X: np.array,\n",
        "    y: np.array,\n",
        "    split: float,\n",
        "    seed: int\n",
        ") -> typing.Tuple[typing.Tuple[np.array, np.array], typing.Tuple[np.array, np.array]]:\n",
        "    \"\"\"\n",
        "    Split data into training and validation sets\n",
        "    \"\"\"\n",
        "    np.random.seed(seed)\n",
        "    indicies = np.random.permutation(X.shape[0])\n",
        "    num_train = int(split * X.shape[0])\n",
        "    train_indicies = indicies[:num_train]\n",
        "    valid_indicies = indicies[num_train:]\n",
        "\n",
        "    X_train = X[train_indicies, :]\n",
        "    y_train = y[train_indicies]\n",
        "\n",
        "    X_valid = X[valid_indicies, :]\n",
        "    y_valid = y[valid_indicies]\n",
        "\n",
        "    return (X_train, y_train), (X_valid, y_valid)\n",
        "\n",
        "\n",
        "def load_data(\n",
        "    filename: str,\n",
        "    standardize: bool = True,\n",
        "    split: float = 0.8,\n",
        "    seed: int = 2022\n",
        ") -> typing.Tuple[typing.Tuple[np.array, np.array], typing.Tuple[np.array, np.array]]:\n",
        "    \"\"\"\n",
        "    Load data from a file and split into training/validation sets.\n",
        "\n",
        "    Args:\n",
        "        filename: name of the data file \n",
        "        split: percentage of data used for training (remainder used for validation)\n",
        "        standardize: if true, input features are normalized to have zero mean\n",
        "        and one standard deviation\n",
        "        seed: random seed used for data splitting\n",
        "\n",
        "    Returns:\n",
        "        (X_train, y_train), (X_valid, y_valid)\n",
        "    \"\"\"\n",
        "    # load data\n",
        "    data = pd.read_parquet(filename)\n",
        "    X, y = _process_data(data, standardize)\n",
        "\n",
        "    return _split_data(X, y, split, seed)\n",
        "\n",
        "def load_train_test_val(\n",
        "    trainfile: str,\n",
        "    testfile: str,\n",
        "    standardize: bool,\n",
        "    split: float = 0.8,\n",
        "    seed: int = 2022,\n",
        "    precision: int = 64,\n",
        "    truncate: float = 1,\n",
        "    standardize_y: bool = False,\n",
        "    top_idx: int = -1,\n",
        "    idx_file: str = \"../data/removed_lasers.npy\",\n",
        "    noise: float = 0,\n",
        ") -> typing.Tuple[typing.Tuple[np.array, np.array], typing.Tuple[np.array, np.array], typing.Tuple[np.array, np.array]]:\n",
        "    train, val = load_data(filename=trainfile, standardize=False, split=split, seed=seed)\n",
        "    test, _ = load_data(filename=testfile, standardize=False, split=1, seed=seed)\n",
        "\n",
        "    Xtrain_un, Ytrain = train\n",
        "    Xval_un, Yval = val\n",
        "    Xtest_un, Ytest = test\n",
        "\n",
        "    if top_idx > 0:\n",
        "        idxs = np.load(idx_file)\n",
        "        Xtrain_un = Xtrain_un[:, idxs[-top_idx:]]\n",
        "        Xval_un = Xval_un[:, idxs[-top_idx:]]\n",
        "        Xtest_un = Xtest_un[:, idxs[-top_idx:]]\n",
        "\n",
        "    if noise > 0:\n",
        "        Xtrain_un = Xtrain_un + np.random.normal(0, noise, np.shape(Xtrain_un))\n",
        "        Xval_un = Xval_un + np.random.normal(0, noise, np.shape(Xval_un))\n",
        "        Xtest_un = Xtest_un + np.random.normal(0, noise, np.shape(Xtest_un))\n",
        "\n",
        "    if not standardize:\n",
        "        if precision == 32:\n",
        "            Xtrain_un = np.array(Xtrain_un, dtype=np.float32)\n",
        "            Ytrain = np.array(Ytrain, dtype=np.float32)\n",
        "            Xval_un = np.array(Xval_un, dtype=np.float32)\n",
        "            Yval = np.array(Yval, dtype=np.float32)\n",
        "            Xtest_un = np.array(Xtest_un, dtype=np.float32)\n",
        "            Ytest = np.array(Ytest, dtype=np.float32)\n",
        "        \n",
        "        Xtrain_un = Xtrain_un[:int(truncate * len(Xtrain_un))]\n",
        "        Ytrain = Ytrain[:int(truncate * len(Ytrain))]\n",
        "        \n",
        "        return (Xtrain_un, Ytrain), (Xval_un, Yval), (Xtest_un, Ytest)\n",
        "    \n",
        "    Xmean = np.mean(Xtrain_un, axis=0)\n",
        "    Xstd = np.std(Xtrain_un, axis=0)\n",
        "    Xtrain_n = _standardize_given(Xtrain_un, Xmean, Xstd)\n",
        "    Xval_n = _standardize_given(Xval_un, Xmean, Xstd)\n",
        "    Xtest_n = _standardize_given(Xtest_un, Xmean, Xstd)\n",
        "    if standardize_y:\n",
        "        Ymean = np.mean(Ytrain, axis=0)\n",
        "        Ystd = np.std(Ytrain, axis=0)\n",
        "        Ytrain = (Ytrain - Ymean) / Ystd\n",
        "        Yval = (Yval - Ymean) / Ystd\n",
        "        Ytest = (Ytest - Ymean) / Ystd\n",
        "\n",
        "    if precision == 32:\n",
        "        Xtrain_n = np.array(Xtrain_n, dtype=np.float32)\n",
        "        Ytrain = np.array(Ytrain, dtype=np.float32)\n",
        "        Xval_n = np.array(Xval_n, dtype=np.float32)\n",
        "        Yval = np.array(Yval, dtype=np.float32)\n",
        "        Xtest_n = np.array(Xtest_n, dtype=np.float32)\n",
        "        Ytest = np.array(Ytest, dtype=np.float32)\n",
        "    \n",
        "    Xtrain_n = Xtrain_n[:int(truncate * len(Xtrain_n))]\n",
        "    Ytrain = Ytrain[:int(truncate * len(Ytrain))]\n",
        "\n",
        "    return (Xtrain_n, Ytrain), (Xval_n, Yval), (Xtest_n, Ytest)"
      ]
    },
    {
      "cell_type": "markdown",
      "metadata": {
        "id": "UL07Z2sP-XAS"
      },
      "source": [
        "## Feature Importance (Top K Linear Regression)"
      ]
    },
    {
      "cell_type": "code",
      "execution_count": 15,
      "metadata": {
        "id": "xB0p17n1gOqK",
        "colab": {
          "base_uri": "https://localhost:8080/",
          "height": 295
        },
        "outputId": "9d7ddc51-7a4a-4243-8863-b2999997b1a1"
      },
      "outputs": [
        {
          "output_type": "display_data",
          "data": {
            "text/plain": [
              "<Figure size 432x288 with 1 Axes>"
            ],
            "image/png": "[encoded data removed]"
          },
          "metadata": {
            "needs_background": "light"
          }
        }
      ],
      "source": [
        "# Load data\n",
        "train, val, test = load_train_test_val(\n",
        "    trainfile=\"../data/train_regression.parquet\",\n",
        "    testfile=\"../data/test_regression.parquet\",\n",
        "    standardize=True,\n",
        "    precision=32,\n",
        ")\n",
        "\n",
        "Xtrain, Ytrain = train\n",
        "Xval, Yval = val\n",
        "Xtest, Ytest = test\n",
        "\n",
        "# Train linear regression model\n",
        "model = LinearRegression()\n",
        "\n",
        "model.fit(Xtrain, Ytrain)\n",
        "importance = model.coef_\n",
        "\n",
        "# Plot coefficients of weights\n",
        "pyplot.bar([x for x in range(len(importance))], importance)\n",
        "pyplot.xlabel(\"Laser Number\")\n",
        "pyplot.ylabel(\"Coefficient\")\n",
        "pyplot.title(\"Weights of Lasers (LinReg)\")\n",
        "pyplot.show()"
      ]
    },
    {
      "cell_type": "code",
      "execution_count": 16,
      "metadata": {
        "id": "_fzOLeaE-7VA"
      },
      "outputs": [],
      "source": [
        "# Dictionary of absolute value of weights -> laser number\n",
        "feature_scores = {}\n",
        "for feature, score in enumerate(importance):\n",
        "  feature_scores[abs(score)] = feature\n",
        "\n",
        "# Sort weights in descending order\n",
        "importance = np.sort(list(feature_scores.keys()))\n",
        "importance = importance[::-1]"
      ]
    },
    {
      "cell_type": "code",
      "execution_count": 17,
      "metadata": {
        "id": "uTSitBwxtGsA"
      },
      "outputs": [],
      "source": [
        "def get_mse(X_train, Y_train, X_test, Y_test, model, **kwargs):\n",
        "  model_ = model(**kwargs)\n",
        "  model_.fit(X_train, Y_train)\n",
        "  Y_pred = model_.predict(X_test)\n",
        "  m = mean_squared_error(Y_test, Y_pred)\n",
        "\n",
        "  return m\n",
        "\n",
        "def get_top_k_lasers(X_train, Y_train, X_test, Y_test, model, feature_scores, weights, k):\n",
        "  top_lasers = []\n",
        "\n",
        "  # Lasers chosen by top weights\n",
        "  for i in range(k):\n",
        "    score = weights[i]\n",
        "    top_lasers.append(feature_scores[score])\n",
        "\n",
        "  X_top = X_train[:, top_lasers]\n",
        "  X_test = X_test[:, top_lasers]\n",
        "  mse = get_mse(X_top, Y_train, X_test, Y_test, model)\n",
        "  top_lasers = [x+1 for x in top_lasers]\n",
        "  return top_lasers, mse"
      ]
    },
    {
      "cell_type": "code",
      "source": [
        "# Top 50 lasers\n",
        "lasers, mse = get_top_k_lasers(Xtrain, Ytrain, Xtest, Ytest, sklearn.linear_model.LinearRegression, feature_scores, importance, 50)\n",
        "print(f\"Top 50 lasers: {lasers}\")\n",
        "print(f\"MSE: {mse}\")"
      ],
      "metadata": {
        "id": "pLr_JLvZeoar"
      },
      "execution_count": null,
      "outputs": []
    },
    {
      "cell_type": "code",
      "source": [
        "# Top k (from 20 - 70) lasers chosen, MSE is calculated for each\n",
        "all_mse = []\n",
        "max_nmbr = 71\n",
        "min_nmbr = 20\n",
        "nmbr_lasers = list(range(min_nmbr, max_nmbr, 10))\n",
        "for n in nmbr_lasers:\n",
        "  _, mse = get_top_k_lasers(Xtrain, Ytrain, Xval, Yval, sklearn.linear_model.LinearRegression, feature_scores, importance, n)\n",
        "  all_mse.append(mse)\n",
        "\n",
        "for i in range(len(nmbr_lasers)):\n",
        "  print(f\"Laser {nmbr_lasers[i]}: {all_mse[i]}\")"
      ],
      "metadata": {
        "id": "oQi_p-aWpyu6",
        "colab": {
          "base_uri": "https://localhost:8080/"
        },
        "outputId": "075a1694-ede7-42f2-8231-ffdd946d0046"
      },
      "execution_count": 14,
      "outputs": [
        {
          "output_type": "stream",
          "name": "stdout",
          "text": [
            "Laser 20: 16.97711753845215\n",
            "Laser 30: 7.722635746002197\n",
            "Laser 40: 8.625450134277344\n",
            "Laser 50: 4.562143325805664\n",
            "Laser 60: 5.606276512145996\n",
            "Laser 70: 4.844027519226074\n"
          ]
        }
      ]
    },
    {
      "cell_type": "code",
      "source": [
        "# Top k (from 10-170) lasers chosen, MSE is calculated for each\n",
        "all_mse = []\n",
        "max_nmbr = 171\n",
        "min_nmbr = 10\n",
        "nmbr_lasers = list(range(min_nmbr, max_nmbr))\n",
        "for n in nmbr_lasers:\n",
        "  _, mse = get_top_k_lasers(Xtrain, Ytrain, Xval, Yval, sklearn.linear_model.LinearRegression, feature_scores, importance, n)\n",
        "  all_mse.append(mse)\n",
        "  print(f\"Laser {n}: {mse}\")"
      ],
      "metadata": {
        "colab": {
          "base_uri": "https://localhost:8080/"
        },
        "id": "6Di3Q51ZrMaW",
        "outputId": "8200a027-3ced-4154-a833-44c3fe9876ef"
      },
      "execution_count": 18,
      "outputs": [
        {
          "output_type": "stream",
          "name": "stdout",
          "text": [
            "Laser 10: 2513.37109375\n",
            "Laser 11: 1890.375244140625\n",
            "Laser 12: 1175.6490478515625\n",
            "Laser 13: 1123.1180419921875\n",
            "Laser 14: 872.2772216796875\n",
            "Laser 15: 871.96142578125\n",
            "Laser 16: 328.9781799316406\n",
            "Laser 17: 132.88690185546875\n",
            "Laser 18: 106.33013916015625\n",
            "Laser 19: 23.6195125579834\n",
            "Laser 20: 16.97711753845215\n",
            "Laser 21: 16.515865325927734\n",
            "Laser 22: 11.701765060424805\n",
            "Laser 23: 11.595558166503906\n",
            "Laser 24: 9.557279586791992\n",
            "Laser 25: 8.002445220947266\n",
            "Laser 26: 7.685306549072266\n",
            "Laser 27: 8.500480651855469\n",
            "Laser 28: 14.647980690002441\n",
            "Laser 29: 13.544708251953125\n",
            "Laser 30: 7.722635746002197\n",
            "Laser 31: 10.157753944396973\n",
            "Laser 32: 6.655250072479248\n",
            "Laser 33: 8.587701797485352\n",
            "Laser 34: 19.44166374206543\n",
            "Laser 35: 8.80517864227295\n",
            "Laser 36: 12.002427101135254\n",
            "Laser 37: 23.48586654663086\n",
            "Laser 38: 27.520755767822266\n",
            "Laser 39: 13.298158645629883\n",
            "Laser 40: 8.625450134277344\n",
            "Laser 41: 7.350811958312988\n",
            "Laser 42: 29.77600860595703\n",
            "Laser 43: 24.06574249267578\n",
            "Laser 44: 9.94017219543457\n",
            "Laser 45: 9.58388900756836\n",
            "Laser 46: 3.7495322227478027\n",
            "Laser 47: 4.826808452606201\n",
            "Laser 48: 11.720312118530273\n",
            "Laser 49: 3.5680742263793945\n",
            "Laser 50: 4.562143325805664\n",
            "Laser 51: 5.486820697784424\n",
            "Laser 52: 7.491860866546631\n",
            "Laser 53: 5.615630149841309\n",
            "Laser 54: 9.726749420166016\n",
            "Laser 55: 5.37368631362915\n",
            "Laser 56: 4.041614055633545\n",
            "Laser 57: 3.1218440532684326\n",
            "Laser 58: 13.53747844696045\n",
            "Laser 59: 5.618441104888916\n",
            "Laser 60: 5.606276512145996\n",
            "Laser 61: 2.9101548194885254\n",
            "Laser 62: 6.670521259307861\n",
            "Laser 63: 3.433047294616699\n",
            "Laser 64: 1.940366506576538\n",
            "Laser 65: 3.8482213020324707\n",
            "Laser 66: 2.8332371711730957\n",
            "Laser 67: 5.867938995361328\n",
            "Laser 68: 6.48717737197876\n",
            "Laser 69: 6.54489803314209\n",
            "Laser 70: 4.844027519226074\n",
            "Laser 71: 5.6945881843566895\n",
            "Laser 72: 4.543771266937256\n",
            "Laser 73: 4.909749984741211\n",
            "Laser 74: 2.257016897201538\n",
            "Laser 75: 2.739501476287842\n",
            "Laser 76: 2.1143627166748047\n",
            "Laser 77: 2.0398147106170654\n",
            "Laser 78: 1.2466118335723877\n",
            "Laser 79: 3.8933839797973633\n",
            "Laser 80: 3.795783281326294\n",
            "Laser 81: 2.2102081775665283\n",
            "Laser 82: 1.3190367221832275\n",
            "Laser 83: 1.606021523475647\n",
            "Laser 84: 1.850448489189148\n",
            "Laser 85: 1.9490792751312256\n",
            "Laser 86: 2.5149269104003906\n",
            "Laser 87: 2.1539511680603027\n",
            "Laser 88: 4.074193000793457\n",
            "Laser 89: 4.172614097595215\n",
            "Laser 90: 6.20089054107666\n",
            "Laser 91: 3.0857651233673096\n",
            "Laser 92: 4.4065937995910645\n",
            "Laser 93: 5.158843517303467\n",
            "Laser 94: 5.768710136413574\n",
            "Laser 95: 7.497647285461426\n",
            "Laser 96: 4.878078937530518\n",
            "Laser 97: 6.516203880310059\n",
            "Laser 98: 8.531963348388672\n",
            "Laser 99: 19.638334274291992\n",
            "Laser 100: 8.842474937438965\n",
            "Laser 101: 37.03042984008789\n",
            "Laser 102: 6.946257591247559\n",
            "Laser 103: 7.26874303817749\n",
            "Laser 104: 7.0349345207214355\n",
            "Laser 105: 3.9913926124572754\n",
            "Laser 106: 4.486030101776123\n",
            "Laser 107: 5.165280342102051\n",
            "Laser 108: 3.8557865619659424\n",
            "Laser 109: 15.47885513305664\n",
            "Laser 110: 8.00255298614502\n",
            "Laser 111: 5.037135601043701\n",
            "Laser 112: 3.878375291824341\n",
            "Laser 113: 5.2724409103393555\n",
            "Laser 114: 6.288516998291016\n",
            "Laser 115: 8.87795352935791\n",
            "Laser 116: 9.295089721679688\n",
            "Laser 117: 11.453017234802246\n",
            "Laser 118: 10.485834121704102\n",
            "Laser 119: 6.910604000091553\n",
            "Laser 120: 8.631138801574707\n",
            "Laser 121: 9.925416946411133\n",
            "Laser 122: 14.06164264678955\n",
            "Laser 123: 16.039697647094727\n",
            "Laser 124: 10.172849655151367\n",
            "Laser 125: 10.326041221618652\n",
            "Laser 126: 12.044953346252441\n",
            "Laser 127: 9.223515510559082\n",
            "Laser 128: 17.231582641601562\n",
            "Laser 129: 7.331279754638672\n",
            "Laser 130: 5.364287853240967\n",
            "Laser 131: 2.6809654235839844\n",
            "Laser 132: 7.940942287445068\n",
            "Laser 133: 3.0288503170013428\n",
            "Laser 134: 13.012317657470703\n",
            "Laser 135: 12.943188667297363\n",
            "Laser 136: 9.128290176391602\n",
            "Laser 137: 12.974172592163086\n",
            "Laser 138: 4.354632377624512\n",
            "Laser 139: 4.1166229248046875\n",
            "Laser 140: 8.712122917175293\n",
            "Laser 141: 11.334125518798828\n",
            "Laser 142: 5.389543056488037\n",
            "Laser 143: 11.452154159545898\n",
            "Laser 144: 15.383800506591797\n",
            "Laser 145: 13.676576614379883\n",
            "Laser 146: 17.37543296813965\n",
            "Laser 147: 17.42264175415039\n",
            "Laser 148: 17.262191772460938\n",
            "Laser 149: 4.802022933959961\n",
            "Laser 150: 4.330786228179932\n",
            "Laser 151: 4.632838726043701\n",
            "Laser 152: 5.1964640617370605\n",
            "Laser 153: 9.218358993530273\n",
            "Laser 154: 4.860072612762451\n",
            "Laser 155: 4.767539978027344\n",
            "Laser 156: 8.268067359924316\n",
            "Laser 157: 4.655107498168945\n",
            "Laser 158: 5.251550197601318\n",
            "Laser 159: 10.045258522033691\n",
            "Laser 160: 4.822744369506836\n",
            "Laser 161: 4.371635913848877\n",
            "Laser 162: 4.8280930519104\n",
            "Laser 163: 5.479074001312256\n",
            "Laser 164: 5.489589691162109\n",
            "Laser 165: 5.450314998626709\n",
            "Laser 166: 5.580766677856445\n",
            "Laser 167: 5.601530075073242\n",
            "Laser 168: 5.196572303771973\n",
            "Laser 169: 3.528648853302002\n",
            "Laser 170: 3.813647985458374\n"
          ]
        }
      ]
    },
    {
      "cell_type": "code",
      "source": [
        "fig = plt.figure()\n",
        "ax = fig.add_subplot(111)\n",
        "ax.set_yscale('log')\n",
        "plt.plot(nmbr_lasers, all_mse)\n",
        "plt.xlabel(\"Number Lasers\")\n",
        "plt.ylabel(\"MSE\")\n",
        "plt.title(\"MSE for Top Lasers (chosen by largest magnitude weights)\")\n",
        "plt.show()"
      ],
      "metadata": {
        "colab": {
          "base_uri": "https://localhost:8080/",
          "height": 295
        },
        "id": "hGazSXMvqUFt",
        "outputId": "a9776ea4-8685-4cb6-c3fb-30a88816c0f4"
      },
      "execution_count": 20,
      "outputs": [
        {
          "output_type": "display_data",
          "data": {
            "text/plain": [
              "<Figure size 432x288 with 1 Axes>"
            ],
            "image/png": "[encoded data removed]"
          },
          "metadata": {
            "needs_background": "light"
          }
        }
      ]
    },
    {
      "cell_type": "markdown",
      "metadata": {
        "id": "rPSaEEKR4sY0"
      },
      "source": [
        "## Feature Selection"
      ]
    },
    {
      "cell_type": "code",
      "source": [
        "import seaborn as sns"
      ],
      "metadata": {
        "id": "u_BQ0OegrHJ3"
      },
      "execution_count": null,
      "outputs": []
    },
    {
      "cell_type": "code",
      "execution_count": null,
      "metadata": {
        "id": "v98uJrlV4z4t"
      },
      "outputs": [],
      "source": [
        "df = pd.read_parquet(\"../data/train_regression.parquet\")\n",
        "\n",
        "# Rename Columns\n",
        "new_col = {}\n",
        "for col in list(df.columns):\n",
        "  if col == \"eEthanol\":\n",
        "    continue\n",
        "  new_col[col] = col[len(\"Laser\")+1:]\n",
        "\n",
        "df.rename(columns=new_col, inplace=True, errors='raise')"
      ]
    },
    {
      "cell_type": "code",
      "execution_count": null,
      "metadata": {
        "id": "DCSgbChe5cc2"
      },
      "outputs": [],
      "source": [
        "# Using Pearson Correlation\n",
        "cor = df.corr()\n",
        "\n",
        "plt.figure(figsize=(30,25))\n",
        "sns.heatmap(cor, annot=True, cmap=plt.cm.Reds)\n",
        "plt.show()\n",
        "\n",
        "cor_mag = abs(cor[\"eEthanol\"])\n",
        "cor['eEthanol'] = cor_mag"
      ]
    },
    {
      "cell_type": "code",
      "execution_count": null,
      "metadata": {
        "id": "k84-y5OqCq_E"
      },
      "outputs": [],
      "source": [
        "train, val, test = load_train_test_val(\n",
        "    trainfile=\"../data/train_regression.parquet\",\n",
        "    testfile=\"../data/test_regression.parquet\",\n",
        "    standardize=True,\n",
        "    precision=64,\n",
        ")\n",
        "\n",
        "X_train, Y_train = train\n",
        "X_val, Y_val = val\n",
        "\n",
        "all_cor_mse = []\n",
        "\n",
        "max_nmbr = 150\n",
        "nmbr_lasers = list(range(15, max_nmbr))\n",
        "\n",
        "for i in range(15, max_nmbr):\n",
        "  largest_cor = cor.nlargest(i, 'eEthanol')\n",
        "  index = list(largest_cor.index)\n",
        "  index.pop(0)\n",
        "  top_lasers = [int(i) - 1 for i in index]\n",
        "\n",
        "  X_top = X_train[:, top_lasers]\n",
        "  X_top_val = X_val[:, top_lasers]\n",
        "  cor_mse = get_mse(X_top, Y_train, X_top_val, Y_val, sklearn.linear_model.LinearRegression)\n",
        "\n",
        "  all_cor_mse.append(cor_mse)"
      ]
    },
    {
      "cell_type": "code",
      "execution_count": null,
      "metadata": {
        "colab": {
          "base_uri": "https://localhost:8080/",
          "height": 295
        },
        "id": "wJD25dwJEpvr",
        "outputId": "a6250489-a561-4265-b20b-29839c2be9b6"
      },
      "outputs": [
        {
          "output_type": "display_data",
          "data": {
            "text/plain": [
              "<Figure size 432x288 with 1 Axes>"
            ],
            "image/png": "[encoded data removed]"
          },
          "metadata": {
            "needs_background": "light"
          }
        }
      ],
      "source": [
        "nmbr_lasers = list(range(15, max_nmbr))\n",
        "plt.plot(nmbr_lasers, all_cor_mse)\n",
        "plt.xlabel(\"Number Lasers\")\n",
        "plt.ylabel(\"MSE\")\n",
        "plt.title(\"MSE for Top Lasers (chosen by correlation to eEthanol)\")\n",
        "plt.show()"
      ]
    },
    {
      "cell_type": "code",
      "execution_count": null,
      "metadata": {
        "colab": {
          "base_uri": "https://localhost:8080/"
        },
        "id": "rpwWGueMHcmP",
        "outputId": "a2b98810-86e6-46ce-fb2c-cae2ad52c307"
      },
      "outputs": [
        {
          "output_type": "stream",
          "name": "stdout",
          "text": [
            "Lasers: 15, MSE: 10.76084305407686\n",
            "Lasers: 16, MSE: 9.84273287584826\n",
            "Lasers: 17, MSE: 9.83889293492754\n",
            "Lasers: 18, MSE: 9.838810814417577\n",
            "Lasers: 19, MSE: 9.593408654352416\n",
            "Lasers: 20, MSE: 9.216834344639071\n",
            "Lasers: 21, MSE: 8.646847575336123\n",
            "Lasers: 22, MSE: 8.231664465323968\n",
            "Lasers: 23, MSE: 7.101114512346699\n",
            "Lasers: 24, MSE: 4.8853010261377126\n",
            "Lasers: 25, MSE: 4.654875243502294\n",
            "Lasers: 26, MSE: 3.9851194065281117\n",
            "Lasers: 27, MSE: 3.625354289349033\n",
            "Lasers: 28, MSE: 3.5852205691149845\n",
            "Lasers: 29, MSE: 2.5260296536868547\n",
            "Lasers: 30, MSE: 2.5225735206745603\n",
            "Lasers: 31, MSE: 2.2689789581511173\n",
            "Lasers: 32, MSE: 2.1160071855058136\n",
            "Lasers: 33, MSE: 2.07868478317842\n",
            "Lasers: 34, MSE: 2.0694210328681795\n",
            "Lasers: 35, MSE: 2.0684648773957792\n",
            "Lasers: 36, MSE: 1.7233382503857815\n",
            "Lasers: 37, MSE: 1.7233610973901505\n",
            "Lasers: 38, MSE: 1.6833749503443312\n",
            "Lasers: 39, MSE: 1.6805138402493807\n",
            "Lasers: 40, MSE: 1.6615432235638141\n",
            "Lasers: 41, MSE: 1.661519340981346\n",
            "Lasers: 42, MSE: 1.4590972171045287\n",
            "Lasers: 43, MSE: 1.4465286590150048\n",
            "Lasers: 44, MSE: 1.381303061736694\n",
            "Lasers: 45, MSE: 1.3053927297454562\n",
            "Lasers: 46, MSE: 1.2555130109593207\n",
            "Lasers: 47, MSE: 1.2532553364502683\n",
            "Lasers: 48, MSE: 1.23338537552713\n",
            "Lasers: 49, MSE: 1.2010728043750138\n",
            "Lasers: 50, MSE: 1.1878976432082555\n",
            "Lasers: 51, MSE: 1.003203843234053\n",
            "Lasers: 52, MSE: 0.9420894612636272\n",
            "Lasers: 53, MSE: 0.9146139787430757\n",
            "Lasers: 54, MSE: 0.9058811584713371\n",
            "Lasers: 55, MSE: 0.808013077222215\n",
            "Lasers: 56, MSE: 0.8033100283448651\n",
            "Lasers: 57, MSE: 0.803077044929858\n",
            "Lasers: 58, MSE: 0.7582666911587326\n",
            "Lasers: 59, MSE: 0.6836960653147212\n",
            "Lasers: 60, MSE: 0.6797852882071403\n",
            "Lasers: 61, MSE: 0.6662139734150501\n",
            "Lasers: 62, MSE: 0.651177036136088\n",
            "Lasers: 63, MSE: 0.6503407267027858\n",
            "Lasers: 64, MSE: 0.6451712938570617\n",
            "Lasers: 65, MSE: 0.6448235326480988\n",
            "Lasers: 66, MSE: 0.64294514240567\n",
            "Lasers: 67, MSE: 0.640038886102385\n",
            "Lasers: 68, MSE: 0.6366345957469277\n",
            "Lasers: 69, MSE: 0.6357249005262027\n",
            "Lasers: 70, MSE: 0.6024636049924373\n",
            "Lasers: 71, MSE: 0.5837859560815992\n",
            "Lasers: 72, MSE: 0.568249085496285\n",
            "Lasers: 73, MSE: 0.555274822110046\n",
            "Lasers: 74, MSE: 0.5551027783494198\n",
            "Lasers: 75, MSE: 0.4663615979941562\n",
            "Lasers: 76, MSE: 0.4631648665400952\n",
            "Lasers: 77, MSE: 0.4425384458218201\n",
            "Lasers: 78, MSE: 0.43938839487662795\n",
            "Lasers: 79, MSE: 0.4391202219438932\n",
            "Lasers: 80, MSE: 0.4234942073388515\n",
            "Lasers: 81, MSE: 0.4219250261728138\n",
            "Lasers: 82, MSE: 0.4217002022971067\n",
            "Lasers: 83, MSE: 0.4196059280625092\n",
            "Lasers: 84, MSE: 0.4197555646633\n",
            "Lasers: 85, MSE: 0.4006513800281034\n",
            "Lasers: 86, MSE: 0.39748894013091174\n",
            "Lasers: 87, MSE: 0.38953967033711984\n",
            "Lasers: 88, MSE: 0.3882920862310208\n",
            "Lasers: 89, MSE: 0.3871595140300995\n",
            "Lasers: 90, MSE: 0.38568183346331\n",
            "Lasers: 91, MSE: 0.3801218178369894\n",
            "Lasers: 92, MSE: 0.375045948234564\n",
            "Lasers: 93, MSE: 0.37307126143368136\n",
            "Lasers: 94, MSE: 0.3728603934790362\n",
            "Lasers: 95, MSE: 0.3702763420871916\n",
            "Lasers: 96, MSE: 0.37030809173514\n",
            "Lasers: 97, MSE: 0.3702394732780389\n",
            "Lasers: 98, MSE: 0.3703150515401445\n",
            "Lasers: 99, MSE: 0.36917656373371827\n",
            "Lasers: 100, MSE: 0.36504857391358836\n",
            "Lasers: 101, MSE: 0.3593112220783483\n",
            "Lasers: 102, MSE: 0.35887493445221663\n",
            "Lasers: 103, MSE: 0.35826895088027794\n",
            "Lasers: 104, MSE: 0.35789727451563547\n",
            "Lasers: 105, MSE: 0.3578897421861898\n",
            "Lasers: 106, MSE: 0.3551907373641018\n",
            "Lasers: 107, MSE: 0.34106771294746796\n",
            "Lasers: 108, MSE: 0.3409948984113046\n",
            "Lasers: 109, MSE: 0.3379672148132775\n",
            "Lasers: 110, MSE: 0.32980549375791274\n",
            "Lasers: 111, MSE: 0.32899922557419736\n",
            "Lasers: 112, MSE: 0.32878765110642094\n",
            "Lasers: 113, MSE: 0.3263811143069839\n",
            "Lasers: 114, MSE: 0.3249136870494781\n",
            "Lasers: 115, MSE: 0.32252664775941764\n",
            "Lasers: 116, MSE: 0.3221800400006838\n",
            "Lasers: 117, MSE: 0.32111462998497836\n",
            "Lasers: 118, MSE: 0.3103546831241313\n",
            "Lasers: 119, MSE: 0.3101913289670231\n",
            "Lasers: 120, MSE: 0.30954402854457225\n",
            "Lasers: 121, MSE: 0.30955600352253465\n",
            "Lasers: 122, MSE: 0.3096043865639539\n",
            "Lasers: 123, MSE: 0.3095732639273623\n",
            "Lasers: 124, MSE: 0.3089428980662041\n",
            "Lasers: 125, MSE: 0.306638862715566\n",
            "Lasers: 126, MSE: 0.30483465036576096\n",
            "Lasers: 127, MSE: 0.30411051421304275\n",
            "Lasers: 128, MSE: 0.300174601636022\n",
            "Lasers: 129, MSE: 0.29958980860673023\n",
            "Lasers: 130, MSE: 0.2971766589725485\n",
            "Lasers: 131, MSE: 0.2961021876217844\n",
            "Lasers: 132, MSE: 0.29582683442696456\n",
            "Lasers: 133, MSE: 0.2952662264819025\n",
            "Lasers: 134, MSE: 0.2942742610426841\n",
            "Lasers: 135, MSE: 0.2940926616795833\n",
            "Lasers: 136, MSE: 0.2932702631459646\n",
            "Lasers: 137, MSE: 0.293056121792016\n",
            "Lasers: 138, MSE: 0.29296802017902457\n",
            "Lasers: 139, MSE: 0.29198459590875575\n",
            "Lasers: 140, MSE: 0.2899835058645308\n",
            "Lasers: 141, MSE: 0.28995151758715826\n",
            "Lasers: 142, MSE: 0.2899398707951862\n",
            "Lasers: 143, MSE: 0.28965403329273626\n",
            "Lasers: 144, MSE: 0.2896244940703352\n",
            "Lasers: 145, MSE: 0.28888153026563135\n",
            "Lasers: 146, MSE: 0.28832829193284837\n",
            "Lasers: 147, MSE: 0.28831374535474924\n",
            "Lasers: 148, MSE: 0.28822822492348305\n",
            "Lasers: 149, MSE: 0.28731684535121577\n"
          ]
        }
      ],
      "source": [
        "for i in range(len(all_cor_mse)):\n",
        "  print(f\"Lasers: {i+15}, MSE: {all_cor_mse[i]}\")"
      ]
    }
  ],
  "metadata": {
    "colab": {
      "collapsed_sections": [
        "2ZwtS7Jn-Fny",
        "UL07Z2sP-XAS"
      ],
      "provenance": []
    },
    "kernelspec": {
      "display_name": "Python 3",
      "name": "python3"
    },
    "language_info": {
      "name": "python"
    }
  },
  "nbformat": 4,
  "nbformat_minor": 0
}